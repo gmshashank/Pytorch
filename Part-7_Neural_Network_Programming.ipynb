{
 "cells": [
  {
   "cell_type": "markdown",
   "metadata": {},
   "source": [
    "### Using nn Sequential"
   ]
  },
  {
   "cell_type": "code",
   "execution_count": 1,
   "metadata": {},
   "outputs": [],
   "source": [
    "%matplotlib inline\n",
    "import torch\n",
    "import torch.nn as nn\n",
    "import torch.nn.functional as F\n",
    "import torch.optim as optim\n",
    "\n",
    "import torchvision\n",
    "import torchvision.transforms as transforms\n",
    "from torch.utils.data import DataLoader\n",
    "from torch.utils.tensorboard import SummaryWriter\n",
    "from IPython.display import display,clear_output\n",
    "import pandas as pd\n",
    "import time\n",
    "import json\n",
    "\n",
    "from itertools import product\n",
    "from collections import OrderedDict\n",
    "from collections import namedtuple\n",
    "\n",
    "import matplotlib.pyplot as plt\n",
    "import math\n",
    "\n",
    "torch.set_printoptions(linewidth=150)"
   ]
  },
  {
   "cell_type": "code",
   "execution_count": 2,
   "metadata": {},
   "outputs": [],
   "source": [
    "train_set=torchvision.datasets.FashionMNIST(\n",
    "    root='./data',\n",
    "    train=True,\n",
    "    download=True,\n",
    "    transform=transforms.Compose([transforms.ToTensor()]))"
   ]
  },
  {
   "cell_type": "code",
   "execution_count": 3,
   "metadata": {},
   "outputs": [],
   "source": [
    "class RunBuilder():\n",
    "    @staticmethod\n",
    "    def get_runs(params):\n",
    "        Run=namedtuple(\"Run\",params.keys())\n",
    "        \n",
    "        runs=[]\n",
    "        for v in product(*params.values()):\n",
    "            runs.append(Run(*v))\n",
    "        \n",
    "        return runs"
   ]
  },
  {
   "cell_type": "code",
   "execution_count": 4,
   "metadata": {},
   "outputs": [],
   "source": [
    "class RunManager():\n",
    "    def __init__(self):\n",
    "        self.epoch_count=0\n",
    "        self.epoch_loss=0\n",
    "        self.epoch_num_correct=0\n",
    "        self.epoch_start_time=None\n",
    "        \n",
    "        self.run_params=None\n",
    "        self.run_count=0\n",
    "        self.run_data=[]\n",
    "        self.run_start_time=None\n",
    "        \n",
    "        self.network=None\n",
    "        self.loader=None\n",
    "        self.tb=None\n",
    "        \n",
    "    def begin_run(self,run,network,loader):\n",
    "        self.run_start_time=time.time()\n",
    "        self.run_params=run\n",
    "        self.run_count+=1\n",
    "        \n",
    "        self.network=network\n",
    "        self.loader=loader\n",
    "        self.tb=SummaryWriter(comment=f\"-{run}\")\n",
    "        \n",
    "        images,labels=next(iter(self.loader))\n",
    "        grid=torchvision.utils.make_grid(images)\n",
    "        \n",
    "        self.tb.add_image(\"images\",grid)\n",
    "        self.tb.add_graph(self.network,images.to(getattr(run,'device','cpu')))\n",
    "        \n",
    "    def end_run(self):\n",
    "        self.tb.close()\n",
    "        self.epoch_count=0\n",
    "        \n",
    "    def begin_epoch(self):\n",
    "        self.epoch_start_time=time.time()\n",
    "        self.epoch_count+=1\n",
    "        self.epoch_loss=0\n",
    "        self.epoch_num_correct=0\n",
    "        \n",
    "    def end_epoch(self):\n",
    "        epoch_duration=time.time()-self.epoch_start_time\n",
    "        run_duration=time.time()-self.run_start_time\n",
    "        \n",
    "        loss=self.epoch_loss/len(self.loader.dataset)\n",
    "        accuracy=self.epoch_num_correct/len(self.loader.dataset)\n",
    "        \n",
    "        self.tb.add_scalar(\"Loss\",loss,self.epoch_count)\n",
    "        self.tb.add_scalar(\"Accuracy\",accuracy,self.epoch_count)\n",
    "        \n",
    "        for name,param in self.network.named_parameters():\n",
    "            self.tb.add_histogram(name,param,self.epoch_count)\n",
    "            self.tb.add_histogram(f\"{name}.grad\",param.grad,self.epoch_count)\n",
    "        \n",
    "        results=OrderedDict()\n",
    "        results[\"run\"]=self.run_count\n",
    "        results[\"epoch\"]=self.epoch_count\n",
    "        results[\"loss\"]=loss\n",
    "        results[\"accuracy\"]=accuracy\n",
    "        results[\"epoch duration\"]=epoch_duration\n",
    "        results[\"run duration\"]=run_duration\n",
    "        \n",
    "        for k,v in self.run_params._asdict().items(): results[k]=v\n",
    "        self.run_data.append(results)\n",
    "        \n",
    "        df=pd.DataFrame.from_dict(self.run_data,orient=\"columns\")\n",
    "        \n",
    "        clear_output(wait=True)\n",
    "        display(df)\n",
    "        \n",
    "    def track_loss(self,loss,batch):\n",
    "        self.epoch_loss+=loss.item()*batch[0].shape[0]\n",
    "\n",
    "    def track_num_correct(self,preds,labels):\n",
    "        self.epoch_num_correct+=self._get_num_correct(preds,labels)\n",
    "\n",
    "    @torch.no_grad()\n",
    "    def _get_num_correct(self,preds,labels):\n",
    "        return preds.argmax(dim=1).eq(labels).sum().item()\n",
    "\n",
    "    def save(self,filename):\n",
    "        pd.DataFrame.from_dict(self.run_data,orient=\"columns\").to_csv(f\"{filename}.csv\")\n",
    "\n",
    "        with open(f\"{filename}.json\",\"w\",encoding=\"utf-8\") as f:\n",
    "            json.dump(self.run_data,f,ensure_ascii=False,indent=4)\n",
    "            "
   ]
  },
  {
   "cell_type": "code",
   "execution_count": 5,
   "metadata": {},
   "outputs": [
    {
     "data": {
      "text/plain": [
       "torch.Size([1, 28, 28])"
      ]
     },
     "execution_count": 5,
     "metadata": {},
     "output_type": "execute_result"
    }
   ],
   "source": [
    "image,label=train_set[0]\n",
    "image.shape"
   ]
  },
  {
   "cell_type": "code",
   "execution_count": 6,
   "metadata": {},
   "outputs": [
    {
     "data": {
      "text/plain": [
       "<matplotlib.image.AxesImage at 0x7f9bc651b5b0>"
      ]
     },
     "execution_count": 6,
     "metadata": {},
     "output_type": "execute_result"
    },
    {
     "data": {
      "image/png": "[encoded data removed]",
      "text/plain": [
       "<Figure size 432x288 with 1 Axes>"
      ]
     },
     "metadata": {
      "needs_background": "light"
     },
     "output_type": "display_data"
    }
   ],
   "source": [
    "plt.imshow(image.squeeze(),cmap='gray')"
   ]
  },
  {
   "cell_type": "code",
   "execution_count": 7,
   "metadata": {},
   "outputs": [
    {
     "data": {
      "text/plain": [
       "['T-shirt/top',\n",
       " 'Trouser',\n",
       " 'Pullover',\n",
       " 'Dress',\n",
       " 'Coat',\n",
       " 'Sandal',\n",
       " 'Shirt',\n",
       " 'Sneaker',\n",
       " 'Bag',\n",
       " 'Ankle boot']"
      ]
     },
     "execution_count": 7,
     "metadata": {},
     "output_type": "execute_result"
    }
   ],
   "source": [
    "train_set.classes"
   ]
  },
  {
   "cell_type": "code",
   "execution_count": 8,
   "metadata": {},
   "outputs": [
    {
     "data": {
      "text/plain": [
       "784"
      ]
     },
     "execution_count": 8,
     "metadata": {},
     "output_type": "execute_result"
    }
   ],
   "source": [
    "in_features=image.numel()\n",
    "in_features"
   ]
  },
  {
   "cell_type": "code",
   "execution_count": 9,
   "metadata": {},
   "outputs": [
    {
     "data": {
      "text/plain": [
       "392"
      ]
     },
     "execution_count": 9,
     "metadata": {},
     "output_type": "execute_result"
    }
   ],
   "source": [
    "out_features=math.floor(in_features/2)\n",
    "out_features"
   ]
  },
  {
   "cell_type": "code",
   "execution_count": 10,
   "metadata": {},
   "outputs": [
    {
     "data": {
      "text/plain": [
       "10"
      ]
     },
     "execution_count": 10,
     "metadata": {},
     "output_type": "execute_result"
    }
   ],
   "source": [
    "out_classes=len(train_set.classes)\n",
    "out_classes"
   ]
  },
  {
   "cell_type": "markdown",
   "metadata": {},
   "source": [
    "#### Sequential Model Initialization: Way 1\n"
   ]
  },
  {
   "cell_type": "code",
   "execution_count": 11,
   "metadata": {},
   "outputs": [
    {
     "data": {
      "text/plain": [
       "Sequential(\n",
       "  (0): Flatten()\n",
       "  (1): Linear(in_features=784, out_features=392, bias=True)\n",
       "  (2): Linear(in_features=392, out_features=10, bias=True)\n",
       ")"
      ]
     },
     "execution_count": 11,
     "metadata": {},
     "output_type": "execute_result"
    }
   ],
   "source": [
    "network1=nn.Sequential(\n",
    "    nn.Flatten(start_dim=1),\n",
    "    nn.Linear(in_features,out_features),\n",
    "    nn.Linear(out_features,out_classes))\n",
    "\n",
    "network1"
   ]
  },
  {
   "cell_type": "code",
   "execution_count": 12,
   "metadata": {},
   "outputs": [
    {
     "data": {
      "text/plain": [
       "Linear(in_features=784, out_features=392, bias=True)"
      ]
     },
     "execution_count": 12,
     "metadata": {},
     "output_type": "execute_result"
    }
   ],
   "source": [
    "network1[1]"
   ]
  },
  {
   "cell_type": "code",
   "execution_count": 13,
   "metadata": {},
   "outputs": [
    {
     "data": {
      "text/plain": [
       "torch.Size([1, 1, 28, 28])"
      ]
     },
     "execution_count": 13,
     "metadata": {},
     "output_type": "execute_result"
    }
   ],
   "source": [
    "image=image.unsqueeze(0)\n",
    "image.shape"
   ]
  },
  {
   "cell_type": "code",
   "execution_count": 14,
   "metadata": {},
   "outputs": [
    {
     "data": {
      "text/plain": [
       "tensor([[ 0.3857, -0.1832,  0.2080,  0.1778,  0.1562, -0.0369, -0.2482, -0.2302,  0.0485,  0.0138]], grad_fn=<AddmmBackward>)"
      ]
     },
     "execution_count": 14,
     "metadata": {},
     "output_type": "execute_result"
    }
   ],
   "source": [
    "network1(image)"
   ]
  },
  {
   "cell_type": "code",
   "execution_count": null,
   "metadata": {},
   "outputs": [],
   "source": []
  },
  {
   "cell_type": "markdown",
   "metadata": {},
   "source": [
    "#### Sequential Model Initialization: Way 2"
   ]
  },
  {
   "cell_type": "code",
   "execution_count": 15,
   "metadata": {},
   "outputs": [
    {
     "data": {
      "text/plain": [
       "Sequential(\n",
       "  (flat): Flatten()\n",
       "  (hidden): Linear(in_features=784, out_features=392, bias=True)\n",
       "  (output): Linear(in_features=392, out_features=10, bias=True)\n",
       ")"
      ]
     },
     "execution_count": 15,
     "metadata": {},
     "output_type": "execute_result"
    }
   ],
   "source": [
    "layers=OrderedDict([\n",
    "    ('flat',nn.Flatten(start_dim=1)),\n",
    "    ('hidden',nn.Linear(in_features,out_features)),\n",
    "    ('output',nn.Linear(out_features,out_classes))])\n",
    "\n",
    "network2=nn.Sequential(layers)\n",
    "network2"
   ]
  },
  {
   "cell_type": "code",
   "execution_count": 16,
   "metadata": {
    "scrolled": true
   },
   "outputs": [
    {
     "data": {
      "text/plain": [
       "tensor([[-0.0645, -0.1173,  0.0658, -0.0971, -0.2111, -0.3193, -0.0889,  0.0945, -0.3315, -0.0928]], grad_fn=<AddmmBackward>)"
      ]
     },
     "execution_count": 16,
     "metadata": {},
     "output_type": "execute_result"
    }
   ],
   "source": [
    "network2(image)"
   ]
  },
  {
   "cell_type": "code",
   "execution_count": null,
   "metadata": {},
   "outputs": [],
   "source": []
  },
  {
   "cell_type": "code",
   "execution_count": 17,
   "metadata": {},
   "outputs": [],
   "source": [
    "torch.manual_seed(50)\n",
    "network1=nn.Sequential(\n",
    "    nn.Flatten(start_dim=1),\n",
    "    nn.Linear(in_features,out_features),\n",
    "    nn.Linear(out_features,out_classes))\n"
   ]
  },
  {
   "cell_type": "code",
   "execution_count": 18,
   "metadata": {},
   "outputs": [],
   "source": [
    "torch.manual_seed(50)\n",
    "layers=OrderedDict([\n",
    "    ('flat',nn.Flatten(start_dim=1)),\n",
    "    ('hidden',nn.Linear(in_features,out_features)),\n",
    "    ('output',nn.Linear(out_features,out_classes))])\n",
    "\n",
    "network2=nn.Sequential(layers)"
   ]
  },
  {
   "cell_type": "code",
   "execution_count": null,
   "metadata": {},
   "outputs": [],
   "source": []
  },
  {
   "cell_type": "code",
   "execution_count": 19,
   "metadata": {},
   "outputs": [
    {
     "data": {
      "text/plain": [
       "(tensor([[ 0.1681,  0.1028, -0.0790, -0.0659, -0.2436,  0.1328, -0.0864,  0.0016,  0.1819, -0.0168]], grad_fn=<AddmmBackward>),\n",
       " tensor([[ 0.1681,  0.1028, -0.0790, -0.0659, -0.2436,  0.1328, -0.0864,  0.0016,  0.1819, -0.0168]], grad_fn=<AddmmBackward>))"
      ]
     },
     "execution_count": 19,
     "metadata": {},
     "output_type": "execute_result"
    }
   ],
   "source": [
    "network1(image),network2(image)"
   ]
  },
  {
   "cell_type": "code",
   "execution_count": null,
   "metadata": {},
   "outputs": [],
   "source": []
  },
  {
   "cell_type": "markdown",
   "metadata": {},
   "source": [
    "#### Sequential Model Initialization: Way 3\n"
   ]
  },
  {
   "cell_type": "code",
   "execution_count": 20,
   "metadata": {},
   "outputs": [
    {
     "data": {
      "text/plain": [
       "Sequential(\n",
       "  (flat): Flatten()\n",
       "  (hidden): Linear(in_features=784, out_features=392, bias=True)\n",
       "  (out): Linear(in_features=392, out_features=10, bias=True)\n",
       ")"
      ]
     },
     "execution_count": 20,
     "metadata": {},
     "output_type": "execute_result"
    }
   ],
   "source": [
    "torch.manual_seed(50)\n",
    "network3=nn.Sequential()\n",
    "network3.add_module('flat',nn.Flatten(start_dim=1))\n",
    "network3.add_module('hidden',nn.Linear(in_features,out_features))\n",
    "network3.add_module('out',nn.Linear(out_features,out_classes))\n",
    "network3"
   ]
  },
  {
   "cell_type": "code",
   "execution_count": 21,
   "metadata": {},
   "outputs": [
    {
     "data": {
      "text/plain": [
       "(tensor([[ 0.1681,  0.1028, -0.0790, -0.0659, -0.2436,  0.1328, -0.0864,  0.0016,  0.1819, -0.0168]], grad_fn=<AddmmBackward>),\n",
       " tensor([[ 0.1681,  0.1028, -0.0790, -0.0659, -0.2436,  0.1328, -0.0864,  0.0016,  0.1819, -0.0168]], grad_fn=<AddmmBackward>),\n",
       " tensor([[ 0.1681,  0.1028, -0.0790, -0.0659, -0.2436,  0.1328, -0.0864,  0.0016,  0.1819, -0.0168]], grad_fn=<AddmmBackward>))"
      ]
     },
     "execution_count": 21,
     "metadata": {},
     "output_type": "execute_result"
    }
   ],
   "source": [
    "network1(image),network2(image),network3(image)"
   ]
  },
  {
   "cell_type": "code",
   "execution_count": null,
   "metadata": {},
   "outputs": [],
   "source": []
  },
  {
   "cell_type": "markdown",
   "metadata": {},
   "source": [
    "#### Class Definition method"
   ]
  },
  {
   "cell_type": "code",
   "execution_count": 22,
   "metadata": {},
   "outputs": [],
   "source": [
    "torch.manual_seed(50)\n",
    "class Network(nn.Module):\n",
    "    def __init__(self):\n",
    "        super().__init__()\n",
    "        self.conv1=nn.Conv2d(1,6,5)\n",
    "        self.conv2=nn.Conv2d(6,12,5)\n",
    "        self.fc1=nn.Linear(in_features=12*4*4,out_features=120)\n",
    "        self.fc2=nn.Linear(in_features=120,out_features=60)\n",
    "        self.out=nn.Linear(in_features=60,out_features=10)\n",
    "    \n",
    "    def forward(self,t):\n",
    "        t=F.relu(self.conv1(t))\n",
    "        t=F.max_pool2d(t,kernel_size=2,stride=2)\n",
    "        t=F.relu(self.conv2(t))\n",
    "        t=F.max_pool2d(t,kernel_size=2,stride=2)\n",
    "        t=t.flatten(start_dim=1)\n",
    "        t=F.relu(self.fc1(t))\n",
    "        t=F.relu(self.fc2(t))\n",
    "        t=self.out(t)\n",
    "        \n",
    "        return t\n",
    "\n",
    "network=Network()"
   ]
  },
  {
   "cell_type": "code",
   "execution_count": null,
   "metadata": {},
   "outputs": [],
   "source": []
  },
  {
   "cell_type": "markdown",
   "metadata": {},
   "source": [
    "#### Sequential method"
   ]
  },
  {
   "cell_type": "code",
   "execution_count": 23,
   "metadata": {},
   "outputs": [],
   "source": [
    "torch.manual_seed(50)\n",
    "sequential1=nn.Sequential(\n",
    "    nn.Conv2d(in_channels=1,out_channels=6,kernel_size=5),\n",
    "    nn.ReLU(),\n",
    "    nn.MaxPool2d(kernel_size=2,stride=2),\n",
    "    nn.Conv2d(in_channels=6,out_channels=12,kernel_size=5),\n",
    "    nn.ReLU(),\n",
    "    nn.MaxPool2d(kernel_size=2,stride=2),\n",
    "    nn.Flatten(start_dim=1),\n",
    "    nn.Linear(in_features=12*4*4,out_features=120),\n",
    "    nn.ReLU(),\n",
    "    nn.Linear(in_features=120,out_features=60),\n",
    "    nn.ReLU(),\n",
    "    nn.Linear(in_features=60,out_features=10)\n",
    ")"
   ]
  },
  {
   "cell_type": "code",
   "execution_count": 24,
   "metadata": {},
   "outputs": [],
   "source": [
    "torch.manual_seed(50)\n",
    "layers=OrderedDict([\n",
    "    ('conv1',nn.Conv2d(in_channels=1,out_channels=6,kernel_size=5)),\n",
    "    ('relu1',nn.ReLU()),\n",
    "    ('maxpool1',nn.MaxPool2d(kernel_size=2,stride=2)),\n",
    "    \n",
    "    ('conv2',nn.Conv2d(in_channels=6,out_channels=12,kernel_size=5)),\n",
    "    ('relu2',nn.ReLU()),\n",
    "    ('maxpool2',nn.MaxPool2d(kernel_size=2,stride=2)),\n",
    "    \n",
    "    ('flatten',nn.Flatten(start_dim=1)),\n",
    "    ('fc1',nn.Linear(in_features=12*4*4,out_features=120)),\n",
    "    ('relu3',nn.ReLU()),\n",
    "    \n",
    "    ('fc2',nn.Linear(in_features=120,out_features=60)),\n",
    "    ('relu4',nn.ReLU()),\n",
    "    ('out',nn.Linear(in_features=60,out_features=10))])\n",
    "\n",
    "sequential2=nn.Sequential(layers)"
   ]
  },
  {
   "cell_type": "code",
   "execution_count": 25,
   "metadata": {},
   "outputs": [],
   "source": [
    "torch.manual_seed(50)\n",
    "sequential3=nn.Sequential()\n",
    "sequential3.add_module('conv1',nn.Conv2d(in_channels=1,out_channels=6,kernel_size=5))\n",
    "sequential3.add_module('relu1',nn.ReLU())\n",
    "sequential3.add_module('maxpool1',nn.MaxPool2d(kernel_size=2,stride=2))\n",
    "sequential3.add_module('conv2',nn.Conv2d(in_channels=6,out_channels=12,kernel_size=5))\n",
    "sequential3.add_module('relu2',nn.ReLU())\n",
    "sequential3.add_module('maxpool2',nn.MaxPool2d(kernel_size=2,stride=2))\n",
    "sequential3.add_module('flatten',nn.Flatten(start_dim=1))\n",
    "sequential3.add_module('fc1',nn.Linear(in_features=12*4*4,out_features=120))\n",
    "sequential3.add_module('relu3',nn.ReLU())\n",
    "sequential3.add_module('fc2',nn.Linear(in_features=120,out_features=60))\n",
    "sequential3.add_module('relu4',nn.ReLU())\n",
    "sequential3.add_module('out',nn.Linear(in_features=60,out_features=10))"
   ]
  },
  {
   "cell_type": "code",
   "execution_count": 26,
   "metadata": {},
   "outputs": [
    {
     "data": {
      "text/plain": [
       "Sequential(\n",
       "  (0): Conv2d(1, 6, kernel_size=(5, 5), stride=(1, 1))\n",
       "  (1): ReLU()\n",
       "  (2): MaxPool2d(kernel_size=2, stride=2, padding=0, dilation=1, ceil_mode=False)\n",
       "  (3): Conv2d(6, 12, kernel_size=(5, 5), stride=(1, 1))\n",
       "  (4): ReLU()\n",
       "  (5): MaxPool2d(kernel_size=2, stride=2, padding=0, dilation=1, ceil_mode=False)\n",
       "  (6): Flatten()\n",
       "  (7): Linear(in_features=192, out_features=120, bias=True)\n",
       "  (8): ReLU()\n",
       "  (9): Linear(in_features=120, out_features=60, bias=True)\n",
       "  (10): ReLU()\n",
       "  (11): Linear(in_features=60, out_features=10, bias=True)\n",
       ")"
      ]
     },
     "execution_count": 26,
     "metadata": {},
     "output_type": "execute_result"
    }
   ],
   "source": [
    "sequential1"
   ]
  },
  {
   "cell_type": "code",
   "execution_count": 27,
   "metadata": {},
   "outputs": [
    {
     "data": {
      "text/plain": [
       "Sequential(\n",
       "  (conv1): Conv2d(1, 6, kernel_size=(5, 5), stride=(1, 1))\n",
       "  (relu1): ReLU()\n",
       "  (maxpool1): MaxPool2d(kernel_size=2, stride=2, padding=0, dilation=1, ceil_mode=False)\n",
       "  (conv2): Conv2d(6, 12, kernel_size=(5, 5), stride=(1, 1))\n",
       "  (relu2): ReLU()\n",
       "  (maxpool2): MaxPool2d(kernel_size=2, stride=2, padding=0, dilation=1, ceil_mode=False)\n",
       "  (flatten): Flatten()\n",
       "  (fc1): Linear(in_features=192, out_features=120, bias=True)\n",
       "  (relu3): ReLU()\n",
       "  (fc2): Linear(in_features=120, out_features=60, bias=True)\n",
       "  (relu4): ReLU()\n",
       "  (out): Linear(in_features=60, out_features=10, bias=True)\n",
       ")"
      ]
     },
     "execution_count": 27,
     "metadata": {},
     "output_type": "execute_result"
    }
   ],
   "source": [
    "sequential2"
   ]
  },
  {
   "cell_type": "code",
   "execution_count": 28,
   "metadata": {},
   "outputs": [
    {
     "data": {
      "text/plain": [
       "Sequential(\n",
       "  (conv1): Conv2d(1, 6, kernel_size=(5, 5), stride=(1, 1))\n",
       "  (relu1): ReLU()\n",
       "  (maxpool1): MaxPool2d(kernel_size=2, stride=2, padding=0, dilation=1, ceil_mode=False)\n",
       "  (conv2): Conv2d(6, 12, kernel_size=(5, 5), stride=(1, 1))\n",
       "  (relu2): ReLU()\n",
       "  (maxpool2): MaxPool2d(kernel_size=2, stride=2, padding=0, dilation=1, ceil_mode=False)\n",
       "  (flatten): Flatten()\n",
       "  (fc1): Linear(in_features=192, out_features=120, bias=True)\n",
       "  (relu3): ReLU()\n",
       "  (fc2): Linear(in_features=120, out_features=60, bias=True)\n",
       "  (relu4): ReLU()\n",
       "  (out): Linear(in_features=60, out_features=10, bias=True)\n",
       ")"
      ]
     },
     "execution_count": 28,
     "metadata": {},
     "output_type": "execute_result"
    }
   ],
   "source": [
    "sequential3"
   ]
  },
  {
   "cell_type": "code",
   "execution_count": 29,
   "metadata": {},
   "outputs": [
    {
     "data": {
      "text/plain": [
       "(tensor([[-0.0957,  0.1053, -0.1055,  0.1547, -0.0366, -0.0132,  0.0749, -0.1152,  0.0426,  0.0639]], grad_fn=<AddmmBackward>),\n",
       " tensor([[-0.0957,  0.1053, -0.1055,  0.1547, -0.0366, -0.0132,  0.0749, -0.1152,  0.0426,  0.0639]], grad_fn=<AddmmBackward>),\n",
       " tensor([[-0.0957,  0.1053, -0.1055,  0.1547, -0.0366, -0.0132,  0.0749, -0.1152,  0.0426,  0.0639]], grad_fn=<AddmmBackward>),\n",
       " tensor([[-0.0957,  0.1053, -0.1055,  0.1547, -0.0366, -0.0132,  0.0749, -0.1152,  0.0426,  0.0639]], grad_fn=<AddmmBackward>))"
      ]
     },
     "execution_count": 29,
     "metadata": {},
     "output_type": "execute_result"
    }
   ],
   "source": [
    "network(image),sequential1(image),sequential2(image),sequential3(image)"
   ]
  },
  {
   "cell_type": "code",
   "execution_count": null,
   "metadata": {},
   "outputs": [],
   "source": []
  },
  {
   "cell_type": "code",
   "execution_count": null,
   "metadata": {},
   "outputs": [],
   "source": []
  },
  {
   "cell_type": "markdown",
   "metadata": {},
   "source": [
    "### Using BatchNorm"
   ]
  },
  {
   "cell_type": "code",
   "execution_count": 30,
   "metadata": {},
   "outputs": [],
   "source": [
    "torch.manual_seed(50)\n",
    "network1=nn.Sequential(\n",
    "    nn.Conv2d(in_channels=1,out_channels=6,kernel_size=5),\n",
    "    nn.ReLU(),\n",
    "    nn.MaxPool2d(kernel_size=2,stride=2),\n",
    "    nn.Conv2d(in_channels=6,out_channels=12,kernel_size=5),\n",
    "    nn.ReLU(),\n",
    "    nn.MaxPool2d(kernel_size=2,stride=2),\n",
    "    nn.Flatten(start_dim=1),\n",
    "    nn.Linear(in_features=12*4*4,out_features=120),\n",
    "    nn.ReLU(),\n",
    "    nn.Linear(in_features=120,out_features=60),\n",
    "    nn.ReLU(),\n",
    "    nn.Linear(in_features=60,out_features=10)\n",
    ")"
   ]
  },
  {
   "cell_type": "code",
   "execution_count": 31,
   "metadata": {},
   "outputs": [],
   "source": [
    "torch.manual_seed(50)\n",
    "network2=nn.Sequential(\n",
    "    nn.Conv2d(in_channels=1,out_channels=6,kernel_size=5),\n",
    "    nn.ReLU(),\n",
    "    nn.MaxPool2d(kernel_size=2,stride=2),\n",
    "    nn.BatchNorm2d(6),\n",
    "    nn.Conv2d(in_channels=6,out_channels=12,kernel_size=5),\n",
    "    nn.ReLU(),\n",
    "    nn.MaxPool2d(kernel_size=2,stride=2),\n",
    "    nn.BatchNorm2d(12),\n",
    "    nn.Flatten(start_dim=1),\n",
    "    nn.Linear(in_features=12*4*4,out_features=120),\n",
    "    nn.ReLU(),\n",
    "    nn.BatchNorm1d(120),\n",
    "    nn.Linear(in_features=120,out_features=60),\n",
    "    nn.ReLU(),\n",
    "    nn.Linear(in_features=60,out_features=10)\n",
    ")"
   ]
  },
  {
   "cell_type": "code",
   "execution_count": 32,
   "metadata": {},
   "outputs": [],
   "source": [
    "train_set=torchvision.datasets.FashionMNIST(\n",
    "    root='./data',\n",
    "    train=True,\n",
    "    download=True,\n",
    "    transform=transforms.Compose([transforms.ToTensor()]))"
   ]
  },
  {
   "cell_type": "code",
   "execution_count": 33,
   "metadata": {},
   "outputs": [
    {
     "data": {
      "text/plain": [
       "(tensor(0.2861), tensor(0.3530))"
      ]
     },
     "execution_count": 33,
     "metadata": {},
     "output_type": "execute_result"
    }
   ],
   "source": [
    "loader=DataLoader(train_set,batch_size=len(train_set),num_workers=1)\n",
    "data=next(iter(loader))\n",
    "mean=data[0].mean()\n",
    "std=data[0].std()\n",
    "mean,std"
   ]
  },
  {
   "cell_type": "code",
   "execution_count": 34,
   "metadata": {},
   "outputs": [],
   "source": [
    "train_set_normal=torchvision.datasets.FashionMNIST(\n",
    "    root='./data',\n",
    "    train=True,\n",
    "    download=True,\n",
    "        transform=transforms.Compose([transforms.ToTensor(),transforms.Normalize(mean,std)]))"
   ]
  },
  {
   "cell_type": "code",
   "execution_count": 35,
   "metadata": {},
   "outputs": [],
   "source": [
    "trainsets={\n",
    "    'not normal':train_set,\n",
    "    'normal':train_set_normal}"
   ]
  },
  {
   "cell_type": "code",
   "execution_count": 36,
   "metadata": {},
   "outputs": [],
   "source": [
    "networks={\n",
    "    'no batch_norm':network1,\n",
    "    'batch_norm':network2\n",
    "}"
   ]
  },
  {
   "cell_type": "code",
   "execution_count": 37,
   "metadata": {},
   "outputs": [
    {
     "data": {
      "text/html": [
       "<div>\n",
       "<style scoped>\n",
       "    .dataframe tbody tr th:only-of-type {\n",
       "        vertical-align: middle;\n",
       "    }\n",
       "\n",
       "    .dataframe tbody tr th {\n",
       "        vertical-align: top;\n",
       "    }\n",
       "\n",
       "    .dataframe thead th {\n",
       "        text-align: right;\n",
       "    }\n",
       "</style>\n",
       "<table border=\"1\" class=\"dataframe\">\n",
       "  <thead>\n",
       "    <tr style=\"text-align: right;\">\n",
       "      <th></th>\n",
       "      <th>run</th>\n",
       "      <th>epoch</th>\n",
       "      <th>loss</th>\n",
       "      <th>accuracy</th>\n",
       "      <th>epoch duration</th>\n",
       "      <th>run duration</th>\n",
       "      <th>lr</th>\n",
       "      <th>batch_size</th>\n",
       "      <th>num_workers</th>\n",
       "      <th>device</th>\n",
       "      <th>trainset</th>\n",
       "      <th>network</th>\n",
       "    </tr>\n",
       "  </thead>\n",
       "  <tbody>\n",
       "    <tr>\n",
       "      <th>0</th>\n",
       "      <td>1</td>\n",
       "      <td>1</td>\n",
       "      <td>1.009760</td>\n",
       "      <td>0.607567</td>\n",
       "      <td>7.102051</td>\n",
       "      <td>8.440114</td>\n",
       "      <td>0.01</td>\n",
       "      <td>1000</td>\n",
       "      <td>1</td>\n",
       "      <td>cuda</td>\n",
       "      <td>not normal</td>\n",
       "      <td>no batch_norm</td>\n",
       "    </tr>\n",
       "    <tr>\n",
       "      <th>1</th>\n",
       "      <td>1</td>\n",
       "      <td>2</td>\n",
       "      <td>0.543566</td>\n",
       "      <td>0.789683</td>\n",
       "      <td>6.931353</td>\n",
       "      <td>15.534446</td>\n",
       "      <td>0.01</td>\n",
       "      <td>1000</td>\n",
       "      <td>1</td>\n",
       "      <td>cuda</td>\n",
       "      <td>not normal</td>\n",
       "      <td>no batch_norm</td>\n",
       "    </tr>\n",
       "    <tr>\n",
       "      <th>2</th>\n",
       "      <td>1</td>\n",
       "      <td>3</td>\n",
       "      <td>0.459305</td>\n",
       "      <td>0.830867</td>\n",
       "      <td>6.912772</td>\n",
       "      <td>22.549157</td>\n",
       "      <td>0.01</td>\n",
       "      <td>1000</td>\n",
       "      <td>1</td>\n",
       "      <td>cuda</td>\n",
       "      <td>not normal</td>\n",
       "      <td>no batch_norm</td>\n",
       "    </tr>\n",
       "    <tr>\n",
       "      <th>3</th>\n",
       "      <td>1</td>\n",
       "      <td>4</td>\n",
       "      <td>0.407676</td>\n",
       "      <td>0.850650</td>\n",
       "      <td>7.060338</td>\n",
       "      <td>29.757443</td>\n",
       "      <td>0.01</td>\n",
       "      <td>1000</td>\n",
       "      <td>1</td>\n",
       "      <td>cuda</td>\n",
       "      <td>not normal</td>\n",
       "      <td>no batch_norm</td>\n",
       "    </tr>\n",
       "    <tr>\n",
       "      <th>4</th>\n",
       "      <td>1</td>\n",
       "      <td>5</td>\n",
       "      <td>0.372141</td>\n",
       "      <td>0.863483</td>\n",
       "      <td>7.147327</td>\n",
       "      <td>37.011080</td>\n",
       "      <td>0.01</td>\n",
       "      <td>1000</td>\n",
       "      <td>1</td>\n",
       "      <td>cuda</td>\n",
       "      <td>not normal</td>\n",
       "      <td>no batch_norm</td>\n",
       "    </tr>\n",
       "    <tr>\n",
       "      <th>...</th>\n",
       "      <td>...</td>\n",
       "      <td>...</td>\n",
       "      <td>...</td>\n",
       "      <td>...</td>\n",
       "      <td>...</td>\n",
       "      <td>...</td>\n",
       "      <td>...</td>\n",
       "      <td>...</td>\n",
       "      <td>...</td>\n",
       "      <td>...</td>\n",
       "      <td>...</td>\n",
       "      <td>...</td>\n",
       "    </tr>\n",
       "    <tr>\n",
       "      <th>75</th>\n",
       "      <td>4</td>\n",
       "      <td>16</td>\n",
       "      <td>0.113363</td>\n",
       "      <td>0.956717</td>\n",
       "      <td>16.006649</td>\n",
       "      <td>230.228112</td>\n",
       "      <td>0.01</td>\n",
       "      <td>1000</td>\n",
       "      <td>1</td>\n",
       "      <td>cuda</td>\n",
       "      <td>normal</td>\n",
       "      <td>batch_norm</td>\n",
       "    </tr>\n",
       "    <tr>\n",
       "      <th>76</th>\n",
       "      <td>4</td>\n",
       "      <td>17</td>\n",
       "      <td>0.113045</td>\n",
       "      <td>0.956833</td>\n",
       "      <td>14.869102</td>\n",
       "      <td>245.317544</td>\n",
       "      <td>0.01</td>\n",
       "      <td>1000</td>\n",
       "      <td>1</td>\n",
       "      <td>cuda</td>\n",
       "      <td>normal</td>\n",
       "      <td>batch_norm</td>\n",
       "    </tr>\n",
       "    <tr>\n",
       "      <th>77</th>\n",
       "      <td>4</td>\n",
       "      <td>18</td>\n",
       "      <td>0.105565</td>\n",
       "      <td>0.958767</td>\n",
       "      <td>12.584493</td>\n",
       "      <td>258.059536</td>\n",
       "      <td>0.01</td>\n",
       "      <td>1000</td>\n",
       "      <td>1</td>\n",
       "      <td>cuda</td>\n",
       "      <td>normal</td>\n",
       "      <td>batch_norm</td>\n",
       "    </tr>\n",
       "    <tr>\n",
       "      <th>78</th>\n",
       "      <td>4</td>\n",
       "      <td>19</td>\n",
       "      <td>0.102475</td>\n",
       "      <td>0.960100</td>\n",
       "      <td>12.568968</td>\n",
       "      <td>270.751142</td>\n",
       "      <td>0.01</td>\n",
       "      <td>1000</td>\n",
       "      <td>1</td>\n",
       "      <td>cuda</td>\n",
       "      <td>normal</td>\n",
       "      <td>batch_norm</td>\n",
       "    </tr>\n",
       "    <tr>\n",
       "      <th>79</th>\n",
       "      <td>4</td>\n",
       "      <td>20</td>\n",
       "      <td>0.101206</td>\n",
       "      <td>0.961250</td>\n",
       "      <td>12.679508</td>\n",
       "      <td>283.613766</td>\n",
       "      <td>0.01</td>\n",
       "      <td>1000</td>\n",
       "      <td>1</td>\n",
       "      <td>cuda</td>\n",
       "      <td>normal</td>\n",
       "      <td>batch_norm</td>\n",
       "    </tr>\n",
       "  </tbody>\n",
       "</table>\n",
       "<p>80 rows × 12 columns</p>\n",
       "</div>"
      ],
      "text/plain": [
       "    run  epoch      loss  accuracy  epoch duration  run duration    lr  \\\n",
       "0     1      1  1.009760  0.607567        7.102051      8.440114  0.01   \n",
       "1     1      2  0.543566  0.789683        6.931353     15.534446  0.01   \n",
       "2     1      3  0.459305  0.830867        6.912772     22.549157  0.01   \n",
       "3     1      4  0.407676  0.850650        7.060338     29.757443  0.01   \n",
       "4     1      5  0.372141  0.863483        7.147327     37.011080  0.01   \n",
       "..  ...    ...       ...       ...             ...           ...   ...   \n",
       "75    4     16  0.113363  0.956717       16.006649    230.228112  0.01   \n",
       "76    4     17  0.113045  0.956833       14.869102    245.317544  0.01   \n",
       "77    4     18  0.105565  0.958767       12.584493    258.059536  0.01   \n",
       "78    4     19  0.102475  0.960100       12.568968    270.751142  0.01   \n",
       "79    4     20  0.101206  0.961250       12.679508    283.613766  0.01   \n",
       "\n",
       "    batch_size  num_workers device    trainset        network  \n",
       "0         1000            1   cuda  not normal  no batch_norm  \n",
       "1         1000            1   cuda  not normal  no batch_norm  \n",
       "2         1000            1   cuda  not normal  no batch_norm  \n",
       "3         1000            1   cuda  not normal  no batch_norm  \n",
       "4         1000            1   cuda  not normal  no batch_norm  \n",
       "..         ...          ...    ...         ...            ...  \n",
       "75        1000            1   cuda      normal     batch_norm  \n",
       "76        1000            1   cuda      normal     batch_norm  \n",
       "77        1000            1   cuda      normal     batch_norm  \n",
       "78        1000            1   cuda      normal     batch_norm  \n",
       "79        1000            1   cuda      normal     batch_norm  \n",
       "\n",
       "[80 rows x 12 columns]"
      ]
     },
     "metadata": {},
     "output_type": "display_data"
    }
   ],
   "source": [
    "params=OrderedDict(\n",
    "    lr=[0.01],\n",
    "    batch_size=[1000],\n",
    "    num_workers=[1],\n",
    "    device=['cuda'],\n",
    "    trainset=['not normal','normal'],\n",
    "    network=list(networks.keys())\n",
    ")\n",
    "\n",
    "m=RunManager()\n",
    "for run in RunBuilder.get_runs(params):\n",
    "    device=torch.device(run.device)\n",
    "    network=networks[run.network].to(device)\n",
    "    loader=DataLoader(trainsets[run.trainset],batch_size=run.batch_size,num_workers=run.num_workers)\n",
    "    optimizer=optim.Adam(network.parameters(),lr=run.lr)\n",
    "    \n",
    "    m.begin_run(run,network,loader)\n",
    "    for epoch in range(20):\n",
    "        m.begin_epoch()\n",
    "        for batch in loader:\n",
    "            images=batch[0].to(device)\n",
    "            labels=batch[1].to(device)\n",
    "            preds=network(images)\n",
    "            loss=F.cross_entropy(preds,labels)\n",
    "            optimizer.zero_grad()\n",
    "            loss.backward()\n",
    "            optimizer.step()\n",
    "            \n",
    "            m.track_loss(loss,batch)\n",
    "            m.track_num_correct(preds,labels)\n",
    "        m.end_epoch()\n",
    "    m.end_run()\n",
    "m.save('results')"
   ]
  },
  {
   "cell_type": "code",
   "execution_count": 38,
   "metadata": {},
   "outputs": [
    {
     "data": {
      "text/html": [
       "<div>\n",
       "<style scoped>\n",
       "    .dataframe tbody tr th:only-of-type {\n",
       "        vertical-align: middle;\n",
       "    }\n",
       "\n",
       "    .dataframe tbody tr th {\n",
       "        vertical-align: top;\n",
       "    }\n",
       "\n",
       "    .dataframe thead th {\n",
       "        text-align: right;\n",
       "    }\n",
       "</style>\n",
       "<table border=\"1\" class=\"dataframe\">\n",
       "  <thead>\n",
       "    <tr style=\"text-align: right;\">\n",
       "      <th></th>\n",
       "      <th>run</th>\n",
       "      <th>epoch</th>\n",
       "      <th>loss</th>\n",
       "      <th>accuracy</th>\n",
       "      <th>epoch duration</th>\n",
       "      <th>run duration</th>\n",
       "      <th>lr</th>\n",
       "      <th>batch_size</th>\n",
       "      <th>num_workers</th>\n",
       "      <th>device</th>\n",
       "      <th>trainset</th>\n",
       "      <th>network</th>\n",
       "    </tr>\n",
       "  </thead>\n",
       "  <tbody>\n",
       "    <tr>\n",
       "      <th>79</th>\n",
       "      <td>4</td>\n",
       "      <td>20</td>\n",
       "      <td>0.101206</td>\n",
       "      <td>0.961250</td>\n",
       "      <td>12.679508</td>\n",
       "      <td>283.613766</td>\n",
       "      <td>0.01</td>\n",
       "      <td>1000</td>\n",
       "      <td>1</td>\n",
       "      <td>cuda</td>\n",
       "      <td>normal</td>\n",
       "      <td>batch_norm</td>\n",
       "    </tr>\n",
       "    <tr>\n",
       "      <th>78</th>\n",
       "      <td>4</td>\n",
       "      <td>19</td>\n",
       "      <td>0.102475</td>\n",
       "      <td>0.960100</td>\n",
       "      <td>12.568968</td>\n",
       "      <td>270.751142</td>\n",
       "      <td>0.01</td>\n",
       "      <td>1000</td>\n",
       "      <td>1</td>\n",
       "      <td>cuda</td>\n",
       "      <td>normal</td>\n",
       "      <td>batch_norm</td>\n",
       "    </tr>\n",
       "    <tr>\n",
       "      <th>77</th>\n",
       "      <td>4</td>\n",
       "      <td>18</td>\n",
       "      <td>0.105565</td>\n",
       "      <td>0.958767</td>\n",
       "      <td>12.584493</td>\n",
       "      <td>258.059536</td>\n",
       "      <td>0.01</td>\n",
       "      <td>1000</td>\n",
       "      <td>1</td>\n",
       "      <td>cuda</td>\n",
       "      <td>normal</td>\n",
       "      <td>batch_norm</td>\n",
       "    </tr>\n",
       "    <tr>\n",
       "      <th>72</th>\n",
       "      <td>4</td>\n",
       "      <td>13</td>\n",
       "      <td>0.108325</td>\n",
       "      <td>0.957600</td>\n",
       "      <td>14.558465</td>\n",
       "      <td>182.137852</td>\n",
       "      <td>0.01</td>\n",
       "      <td>1000</td>\n",
       "      <td>1</td>\n",
       "      <td>cuda</td>\n",
       "      <td>normal</td>\n",
       "      <td>batch_norm</td>\n",
       "    </tr>\n",
       "    <tr>\n",
       "      <th>74</th>\n",
       "      <td>4</td>\n",
       "      <td>15</td>\n",
       "      <td>0.111467</td>\n",
       "      <td>0.957450</td>\n",
       "      <td>14.427458</td>\n",
       "      <td>213.934400</td>\n",
       "      <td>0.01</td>\n",
       "      <td>1000</td>\n",
       "      <td>1</td>\n",
       "      <td>cuda</td>\n",
       "      <td>normal</td>\n",
       "      <td>batch_norm</td>\n",
       "    </tr>\n",
       "    <tr>\n",
       "      <th>...</th>\n",
       "      <td>...</td>\n",
       "      <td>...</td>\n",
       "      <td>...</td>\n",
       "      <td>...</td>\n",
       "      <td>...</td>\n",
       "      <td>...</td>\n",
       "      <td>...</td>\n",
       "      <td>...</td>\n",
       "      <td>...</td>\n",
       "      <td>...</td>\n",
       "      <td>...</td>\n",
       "      <td>...</td>\n",
       "    </tr>\n",
       "    <tr>\n",
       "      <th>3</th>\n",
       "      <td>1</td>\n",
       "      <td>4</td>\n",
       "      <td>0.407676</td>\n",
       "      <td>0.850650</td>\n",
       "      <td>7.060338</td>\n",
       "      <td>29.757443</td>\n",
       "      <td>0.01</td>\n",
       "      <td>1000</td>\n",
       "      <td>1</td>\n",
       "      <td>cuda</td>\n",
       "      <td>not normal</td>\n",
       "      <td>no batch_norm</td>\n",
       "    </tr>\n",
       "    <tr>\n",
       "      <th>2</th>\n",
       "      <td>1</td>\n",
       "      <td>3</td>\n",
       "      <td>0.459305</td>\n",
       "      <td>0.830867</td>\n",
       "      <td>6.912772</td>\n",
       "      <td>22.549157</td>\n",
       "      <td>0.01</td>\n",
       "      <td>1000</td>\n",
       "      <td>1</td>\n",
       "      <td>cuda</td>\n",
       "      <td>not normal</td>\n",
       "      <td>no batch_norm</td>\n",
       "    </tr>\n",
       "    <tr>\n",
       "      <th>20</th>\n",
       "      <td>2</td>\n",
       "      <td>1</td>\n",
       "      <td>0.562288</td>\n",
       "      <td>0.795133</td>\n",
       "      <td>7.567020</td>\n",
       "      <td>9.671923</td>\n",
       "      <td>0.01</td>\n",
       "      <td>1000</td>\n",
       "      <td>1</td>\n",
       "      <td>cuda</td>\n",
       "      <td>not normal</td>\n",
       "      <td>batch_norm</td>\n",
       "    </tr>\n",
       "    <tr>\n",
       "      <th>1</th>\n",
       "      <td>1</td>\n",
       "      <td>2</td>\n",
       "      <td>0.543566</td>\n",
       "      <td>0.789683</td>\n",
       "      <td>6.931353</td>\n",
       "      <td>15.534446</td>\n",
       "      <td>0.01</td>\n",
       "      <td>1000</td>\n",
       "      <td>1</td>\n",
       "      <td>cuda</td>\n",
       "      <td>not normal</td>\n",
       "      <td>no batch_norm</td>\n",
       "    </tr>\n",
       "    <tr>\n",
       "      <th>0</th>\n",
       "      <td>1</td>\n",
       "      <td>1</td>\n",
       "      <td>1.009760</td>\n",
       "      <td>0.607567</td>\n",
       "      <td>7.102051</td>\n",
       "      <td>8.440114</td>\n",
       "      <td>0.01</td>\n",
       "      <td>1000</td>\n",
       "      <td>1</td>\n",
       "      <td>cuda</td>\n",
       "      <td>not normal</td>\n",
       "      <td>no batch_norm</td>\n",
       "    </tr>\n",
       "  </tbody>\n",
       "</table>\n",
       "<p>80 rows × 12 columns</p>\n",
       "</div>"
      ],
      "text/plain": [
       "    run  epoch      loss  accuracy  epoch duration  run duration    lr  \\\n",
       "79    4     20  0.101206  0.961250       12.679508    283.613766  0.01   \n",
       "78    4     19  0.102475  0.960100       12.568968    270.751142  0.01   \n",
       "77    4     18  0.105565  0.958767       12.584493    258.059536  0.01   \n",
       "72    4     13  0.108325  0.957600       14.558465    182.137852  0.01   \n",
       "74    4     15  0.111467  0.957450       14.427458    213.934400  0.01   \n",
       "..  ...    ...       ...       ...             ...           ...   ...   \n",
       "3     1      4  0.407676  0.850650        7.060338     29.757443  0.01   \n",
       "2     1      3  0.459305  0.830867        6.912772     22.549157  0.01   \n",
       "20    2      1  0.562288  0.795133        7.567020      9.671923  0.01   \n",
       "1     1      2  0.543566  0.789683        6.931353     15.534446  0.01   \n",
       "0     1      1  1.009760  0.607567        7.102051      8.440114  0.01   \n",
       "\n",
       "    batch_size  num_workers device    trainset        network  \n",
       "79        1000            1   cuda      normal     batch_norm  \n",
       "78        1000            1   cuda      normal     batch_norm  \n",
       "77        1000            1   cuda      normal     batch_norm  \n",
       "72        1000            1   cuda      normal     batch_norm  \n",
       "74        1000            1   cuda      normal     batch_norm  \n",
       "..         ...          ...    ...         ...            ...  \n",
       "3         1000            1   cuda  not normal  no batch_norm  \n",
       "2         1000            1   cuda  not normal  no batch_norm  \n",
       "20        1000            1   cuda  not normal     batch_norm  \n",
       "1         1000            1   cuda  not normal  no batch_norm  \n",
       "0         1000            1   cuda  not normal  no batch_norm  \n",
       "\n",
       "[80 rows x 12 columns]"
      ]
     },
     "execution_count": 38,
     "metadata": {},
     "output_type": "execute_result"
    }
   ],
   "source": [
    "pd.DataFrame.from_dict(m.run_data).sort_values('accuracy',ascending=False)"
   ]
  },
  {
   "cell_type": "code",
   "execution_count": null,
   "metadata": {},
   "outputs": [],
   "source": []
  }
 ],
 "metadata": {
  "kernelspec": {
   "display_name": "Python 3",
   "language": "python",
   "name": "python3"
  },
  "language_info": {
   "codemirror_mode": {
    "name": "ipython",
    "version": 3
   },
   "file_extension": ".py",
   "mimetype": "text/x-python",
   "name": "python",
   "nbconvert_exporter": "python",
   "pygments_lexer": "ipython3",
   "version": "3.8.5"
  }
 },
 "nbformat": 4,
 "nbformat_minor": 4
}
