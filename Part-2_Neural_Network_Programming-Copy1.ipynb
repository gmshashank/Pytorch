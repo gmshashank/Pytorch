{
 "cells": [
  {
   "cell_type": "code",
   "execution_count": 1,
   "metadata": {},
   "outputs": [],
   "source": [
    "import torch\n",
    "import torch.nn as nn\n",
    "import torch.nn.functional as functional\n",
    "\n",
    "import torchvision\n",
    "import torchvision.transforms as transforms    \n",
    "\n",
    "torch.set_printoptions(linewidth=120)"
   ]
  },
  {
   "cell_type": "code",
   "execution_count": 2,
   "metadata": {},
   "outputs": [
    {
     "name": "stdout",
     "output_type": "stream",
     "text": [
      "1.6.0\n",
      "0.7.0\n"
     ]
    }
   ],
   "source": [
    "print(torch.__version__)\n",
    "print(torchvision.__version__)"
   ]
  },
  {
   "cell_type": "code",
   "execution_count": 3,
   "metadata": {},
   "outputs": [],
   "source": [
    "train_set=torchvision.datasets.FashionMNIST(\n",
    "    root=\"./data\",train=True,download=True,\n",
    "    transform=transforms.Compose([transforms.ToTensor()]))"
   ]
  },
  {
   "cell_type": "code",
   "execution_count": 4,
   "metadata": {},
   "outputs": [],
   "source": [
    "class Network(nn.Module):\n",
    "    def __init__(self):\n",
    "        super().__init__()\n",
    "        self.conv1=nn.Conv2d(in_channels=1,out_channels=6,kernel_size=5)\n",
    "        self.conv2=nn.Conv2d(in_channels=6,out_channels=12,kernel_size=5)\n",
    "        \n",
    "        self.fc1=nn.Linear(in_features=12*4*4,out_features=120)\n",
    "        self.fc2=nn.Linear(in_features=120,out_features=60)\n",
    "        self.out=nn.Linear(in_features=60,out_features=10)\n",
    "        \n",
    "    def forward(self,t):\n",
    "        # layer1-input layer\n",
    "        t=t\n",
    "        \n",
    "        # layer2-hidden conv layer        \n",
    "        t=self.conv1(t)\n",
    "        t=functional.relu(t)\n",
    "        t=functional.max_pool2d(t,kernel_size=2,stride=2)\n",
    "        \n",
    "        # layer3-hidden conv layer        \n",
    "        t=self.conv2(t)\n",
    "        t=functional.relu(t)\n",
    "        t=functional.max_pool2d(t,kernel_size=2,stride=2)\n",
    "        \n",
    "        # layer4-hidden linear layer        \n",
    "        t=t.reshape(-1,12*4*4)\n",
    "        t=self.fc1(t)\n",
    "        t=functional.relu(t)\n",
    "        \n",
    "        # layer5-hidden linear layer        \n",
    "        t=self.fc2(t)\n",
    "        t=functional.relu(t)\n",
    "        \n",
    "        # layer6-output layer        \n",
    "        t=self.out(t)\n",
    "        \n",
    "        return t"
   ]
  },
  {
   "cell_type": "code",
   "execution_count": null,
   "metadata": {},
   "outputs": [],
   "source": []
  },
  {
   "cell_type": "code",
   "execution_count": 5,
   "metadata": {},
   "outputs": [
    {
     "data": {
      "text/plain": [
       "<torch.autograd.grad_mode.set_grad_enabled at 0x7f85ae167220>"
      ]
     },
     "execution_count": 5,
     "metadata": {},
     "output_type": "execute_result"
    }
   ],
   "source": [
    "torch.set_grad_enabled(False)"
   ]
  },
  {
   "cell_type": "code",
   "execution_count": null,
   "metadata": {},
   "outputs": [],
   "source": []
  },
  {
   "cell_type": "markdown",
   "metadata": {},
   "source": [
    "#### Passing A Single Image To The Network"
   ]
  },
  {
   "cell_type": "code",
   "execution_count": 6,
   "metadata": {},
   "outputs": [],
   "source": [
    "network=Network() "
   ]
  },
  {
   "cell_type": "code",
   "execution_count": 7,
   "metadata": {},
   "outputs": [],
   "source": [
    "data_loader=torch.utils.data.DataLoader(train_set,batch_size=10)"
   ]
  },
  {
   "cell_type": "code",
   "execution_count": 8,
   "metadata": {},
   "outputs": [],
   "source": [
    "sample=next(iter(train_set))"
   ]
  },
  {
   "cell_type": "code",
   "execution_count": 9,
   "metadata": {},
   "outputs": [
    {
     "data": {
      "text/plain": [
       "torch.Size([1, 28, 28])"
      ]
     },
     "execution_count": 9,
     "metadata": {},
     "output_type": "execute_result"
    }
   ],
   "source": [
    "image,label=sample\n",
    "image.shape"
   ]
  },
  {
   "cell_type": "code",
   "execution_count": null,
   "metadata": {},
   "outputs": [],
   "source": []
  },
  {
   "cell_type": "code",
   "execution_count": 10,
   "metadata": {},
   "outputs": [
    {
     "data": {
      "text/plain": [
       "torch.Size([1, 1, 28, 28])"
      ]
     },
     "execution_count": 10,
     "metadata": {},
     "output_type": "execute_result"
    }
   ],
   "source": [
    "image.unsqueeze(0).shape"
   ]
  },
  {
   "cell_type": "code",
   "execution_count": 11,
   "metadata": {},
   "outputs": [
    {
     "data": {
      "text/plain": [
       "torch.Size([1, 1, 28, 28])"
      ]
     },
     "execution_count": 11,
     "metadata": {},
     "output_type": "execute_result"
    }
   ],
   "source": [
    "image.unsqueeze(1).shape"
   ]
  },
  {
   "cell_type": "code",
   "execution_count": 12,
   "metadata": {},
   "outputs": [
    {
     "data": {
      "text/plain": [
       "torch.Size([1, 28, 1, 28])"
      ]
     },
     "execution_count": 12,
     "metadata": {},
     "output_type": "execute_result"
    }
   ],
   "source": [
    "image.unsqueeze(2).shape"
   ]
  },
  {
   "cell_type": "code",
   "execution_count": 13,
   "metadata": {},
   "outputs": [
    {
     "data": {
      "text/plain": [
       "torch.Size([1, 28, 28, 1])"
      ]
     },
     "execution_count": 13,
     "metadata": {},
     "output_type": "execute_result"
    }
   ],
   "source": [
    "image.unsqueeze(3).shape"
   ]
  },
  {
   "cell_type": "code",
   "execution_count": null,
   "metadata": {},
   "outputs": [],
   "source": []
  },
  {
   "cell_type": "code",
   "execution_count": 14,
   "metadata": {},
   "outputs": [],
   "source": [
    "pred=network(image.unsqueeze(0))"
   ]
  },
  {
   "cell_type": "code",
   "execution_count": 15,
   "metadata": {},
   "outputs": [
    {
     "data": {
      "text/plain": [
       "torch.Size([1, 10])"
      ]
     },
     "execution_count": 15,
     "metadata": {},
     "output_type": "execute_result"
    }
   ],
   "source": [
    "pred.shape"
   ]
  },
  {
   "cell_type": "code",
   "execution_count": 16,
   "metadata": {},
   "outputs": [
    {
     "data": {
      "text/plain": [
       "tensor([[ 0.1339,  0.0140,  0.0923, -0.1187, -0.0007, -0.1122,  0.1098,  0.0083, -0.0690,  0.0686]])"
      ]
     },
     "execution_count": 16,
     "metadata": {},
     "output_type": "execute_result"
    }
   ],
   "source": [
    "pred"
   ]
  },
  {
   "cell_type": "code",
   "execution_count": 17,
   "metadata": {},
   "outputs": [
    {
     "data": {
      "text/plain": [
       "9"
      ]
     },
     "execution_count": 17,
     "metadata": {},
     "output_type": "execute_result"
    }
   ],
   "source": [
    "label"
   ]
  },
  {
   "cell_type": "code",
   "execution_count": 18,
   "metadata": {},
   "outputs": [
    {
     "data": {
      "text/plain": [
       "tensor([0])"
      ]
     },
     "execution_count": 18,
     "metadata": {},
     "output_type": "execute_result"
    }
   ],
   "source": [
    "pred.argmax(dim=1)"
   ]
  },
  {
   "cell_type": "code",
   "execution_count": 19,
   "metadata": {},
   "outputs": [
    {
     "data": {
      "text/plain": [
       "tensor([[0.1125, 0.0998, 0.1079, 0.0874, 0.0983, 0.0879, 0.1098, 0.0992, 0.0918, 0.1054]])"
      ]
     },
     "execution_count": 19,
     "metadata": {},
     "output_type": "execute_result"
    }
   ],
   "source": [
    "functional.softmax(pred,dim=1)"
   ]
  },
  {
   "cell_type": "code",
   "execution_count": 20,
   "metadata": {},
   "outputs": [
    {
     "data": {
      "text/plain": [
       "tensor(1.)"
      ]
     },
     "execution_count": 20,
     "metadata": {},
     "output_type": "execute_result"
    }
   ],
   "source": [
    "functional.softmax(pred,dim=1).sum()"
   ]
  },
  {
   "cell_type": "code",
   "execution_count": null,
   "metadata": {},
   "outputs": [],
   "source": []
  },
  {
   "cell_type": "code",
   "execution_count": 21,
   "metadata": {},
   "outputs": [],
   "source": [
    "net1=Network()\n",
    "net2=Network()"
   ]
  },
  {
   "cell_type": "code",
   "execution_count": 22,
   "metadata": {},
   "outputs": [
    {
     "data": {
      "text/plain": [
       "tensor([[ 0.1089, -0.0177,  0.0869,  0.0936, -0.0592, -0.1191, -0.1570,  0.0087,  0.1438, -0.0189]])"
      ]
     },
     "execution_count": 22,
     "metadata": {},
     "output_type": "execute_result"
    }
   ],
   "source": [
    "net1(image.unsqueeze(0))"
   ]
  },
  {
   "cell_type": "code",
   "execution_count": 23,
   "metadata": {},
   "outputs": [
    {
     "data": {
      "text/plain": [
       "tensor([[ 0.0644,  0.0493,  0.0290, -0.1102,  0.1225,  0.0566,  0.0368, -0.0062, -0.0881, -0.0774]])"
      ]
     },
     "execution_count": 23,
     "metadata": {},
     "output_type": "execute_result"
    }
   ],
   "source": [
    "net2(image.unsqueeze(0))"
   ]
  },
  {
   "cell_type": "code",
   "execution_count": null,
   "metadata": {},
   "outputs": [],
   "source": []
  },
  {
   "cell_type": "markdown",
   "metadata": {},
   "source": [
    "#### Neural Network Batch Processing"
   ]
  },
  {
   "cell_type": "code",
   "execution_count": 24,
   "metadata": {},
   "outputs": [
    {
     "data": {
      "text/plain": [
       "<torch.autograd.grad_mode.set_grad_enabled at 0x7f85ae120e80>"
      ]
     },
     "execution_count": 24,
     "metadata": {},
     "output_type": "execute_result"
    }
   ],
   "source": [
    "import torch\n",
    "import torch.nn as nn\n",
    "import torch.nn.functional as functional\n",
    "import torch.optim as optim\n",
    "\n",
    "import torchvision\n",
    "import torchvision.transforms as transforms    \n",
    "\n",
    "torch.set_printoptions(linewidth=120)\n",
    "torch.set_grad_enabled(True)"
   ]
  },
  {
   "cell_type": "code",
   "execution_count": 25,
   "metadata": {},
   "outputs": [
    {
     "name": "stdout",
     "output_type": "stream",
     "text": [
      "1.6.0\n",
      "0.7.0\n"
     ]
    }
   ],
   "source": [
    "print(torch.__version__)\n",
    "print(torchvision.__version__)"
   ]
  },
  {
   "cell_type": "code",
   "execution_count": 26,
   "metadata": {},
   "outputs": [],
   "source": [
    "def get_num_correct(preds,labels):\n",
    "    return (preds.argmax(dim=-1).eq(labels)).sum().item()"
   ]
  },
  {
   "cell_type": "code",
   "execution_count": 27,
   "metadata": {},
   "outputs": [],
   "source": [
    "class Network(nn.Module):\n",
    "    def __init__(self):\n",
    "        super().__init__()\n",
    "        self.conv1=nn.Conv2d(in_channels=1,out_channels=6,kernel_size=5)\n",
    "        self.conv2=nn.Conv2d(in_channels=6,out_channels=12,kernel_size=5)\n",
    "        \n",
    "        self.fc1=nn.Linear(in_features=12*4*4,out_features=120)\n",
    "        self.fc2=nn.Linear(in_features=120,out_features=60)\n",
    "        self.out=nn.Linear(in_features=60,out_features=10)\n",
    "        \n",
    "    def forward(self,t):\n",
    "        # layer1-input layer\n",
    "        t=t\n",
    "        \n",
    "        # layer2-hidden conv layer        \n",
    "        t=self.conv1(t)\n",
    "        t=functional.relu(t)\n",
    "        t=functional.max_pool2d(t,kernel_size=2,stride=2)\n",
    "        \n",
    "        # layer3-hidden conv layer        \n",
    "        t=self.conv2(t)\n",
    "        t=functional.relu(t)\n",
    "        t=functional.max_pool2d(t,kernel_size=2,stride=2)\n",
    "        \n",
    "        # layer4-hidden linear layer        \n",
    "        t=t.reshape(-1,12*4*4)\n",
    "        t=self.fc1(t)\n",
    "        t=functional.relu(t)\n",
    "        \n",
    "        # layer5-hidden linear layer        \n",
    "        t=self.fc2(t)\n",
    "        t=functional.relu(t)\n",
    "        \n",
    "        # layer6-output layer        \n",
    "        t=self.out(t)\n",
    "        \n",
    "        return t"
   ]
  },
  {
   "cell_type": "code",
   "execution_count": 28,
   "metadata": {},
   "outputs": [],
   "source": [
    "network=Network()"
   ]
  },
  {
   "cell_type": "code",
   "execution_count": 29,
   "metadata": {},
   "outputs": [],
   "source": [
    "train_loader=torch.utils.data.DataLoader(train_set,batch_size=100)\n",
    "batch=next(iter(train_loader))\n",
    "images,labels=batch"
   ]
  },
  {
   "cell_type": "code",
   "execution_count": null,
   "metadata": {},
   "outputs": [],
   "source": []
  },
  {
   "cell_type": "markdown",
   "metadata": {},
   "source": [
    "#### Calculating Loss"
   ]
  },
  {
   "cell_type": "code",
   "execution_count": 30,
   "metadata": {},
   "outputs": [
    {
     "data": {
      "text/plain": [
       "2.298187017440796"
      ]
     },
     "execution_count": 30,
     "metadata": {},
     "output_type": "execute_result"
    }
   ],
   "source": [
    "preds=network(images)\n",
    "loss=functional.cross_entropy(preds,labels)\n",
    "loss.item()"
   ]
  },
  {
   "cell_type": "code",
   "execution_count": 31,
   "metadata": {},
   "outputs": [
    {
     "data": {
      "text/plain": [
       "8"
      ]
     },
     "execution_count": 31,
     "metadata": {},
     "output_type": "execute_result"
    }
   ],
   "source": [
    "get_num_correct(preds,labels)"
   ]
  },
  {
   "cell_type": "markdown",
   "metadata": {},
   "source": [
    "#### Calculate Gradients"
   ]
  },
  {
   "cell_type": "code",
   "execution_count": 32,
   "metadata": {
    "scrolled": true
   },
   "outputs": [
    {
     "name": "stdout",
     "output_type": "stream",
     "text": [
      "None\n"
     ]
    }
   ],
   "source": [
    "print(network.conv1.weight.grad)"
   ]
  },
  {
   "cell_type": "code",
   "execution_count": 33,
   "metadata": {},
   "outputs": [],
   "source": [
    "loss.backward()   #calculating gradients"
   ]
  },
  {
   "cell_type": "code",
   "execution_count": 34,
   "metadata": {},
   "outputs": [
    {
     "data": {
      "text/plain": [
       "torch.Size([6, 1, 5, 5])"
      ]
     },
     "execution_count": 34,
     "metadata": {},
     "output_type": "execute_result"
    }
   ],
   "source": [
    "network.conv1.weight.grad.shape"
   ]
  },
  {
   "cell_type": "code",
   "execution_count": 35,
   "metadata": {},
   "outputs": [
    {
     "name": "stdout",
     "output_type": "stream",
     "text": [
      "tensor([[[[ 1.1568e-07,  3.0873e-07, -3.7029e-06,  2.0507e-06,  9.5033e-05],\n",
      "          [ 6.0575e-06,  1.5404e-05,  1.9339e-05,  2.9668e-05,  1.4863e-04],\n",
      "          [-1.3221e-05, -1.6167e-05, -1.2498e-05, -1.0574e-05,  2.1767e-04],\n",
      "          [-3.2603e-05, -2.7915e-05, -3.9430e-06, -5.2800e-07,  3.2245e-04],\n",
      "          [-1.7462e-05, -1.1846e-05, -1.2988e-08,  1.1808e-04,  3.7526e-04]]],\n",
      "\n",
      "\n",
      "        [[[-4.7075e-04, -1.2209e-04, -7.7235e-04, -7.8724e-04, -6.8078e-04],\n",
      "          [-7.4609e-04, -3.9430e-04, -1.0494e-03, -9.6386e-04, -5.9727e-04],\n",
      "          [-9.5901e-04, -9.0966e-04, -1.7419e-03, -1.1752e-03, -1.0333e-03],\n",
      "          [-1.0063e-03, -1.0196e-03, -1.9265e-03, -1.5614e-03, -1.4608e-03],\n",
      "          [-1.1408e-03, -1.3675e-03, -1.7925e-03, -1.0991e-03, -1.0903e-03]]],\n",
      "\n",
      "\n",
      "        [[[ 8.4715e-04,  1.3098e-03,  8.0895e-04,  3.2564e-04, -2.4638e-04],\n",
      "          [ 7.4675e-04,  1.2268e-03,  4.1279e-04,  2.6921e-05, -3.3148e-04],\n",
      "          [ 8.2308e-04,  1.3597e-03,  4.4162e-04, -2.7942e-05, -5.0224e-04],\n",
      "          [ 8.2184e-04,  1.1405e-03,  1.5968e-04, -1.2655e-04, -3.3659e-04],\n",
      "          [ 5.2015e-04,  7.9964e-04, -8.0735e-06, -2.2236e-04, -3.6990e-04]]],\n",
      "\n",
      "\n",
      "        [[[ 6.9510e-04,  7.4565e-04,  1.1056e-03,  1.4906e-03,  1.0497e-03],\n",
      "          [ 1.2972e-03,  1.0444e-03,  1.2068e-03,  9.3721e-04,  1.0338e-03],\n",
      "          [ 9.8555e-04,  1.2598e-03,  7.4147e-04,  4.9109e-04,  8.2058e-04],\n",
      "          [ 1.0989e-03,  1.3786e-03,  1.1704e-03,  9.3540e-04,  8.2358e-04],\n",
      "          [ 6.1015e-04,  1.2274e-03,  4.8366e-04, -5.6979e-05,  1.2854e-04]]],\n",
      "\n",
      "\n",
      "        [[[ 1.1502e-03,  1.4295e-03,  1.0650e-03,  9.6274e-04,  1.2483e-03],\n",
      "          [ 1.4436e-03,  1.4198e-03,  1.2422e-03,  1.4113e-03,  1.5903e-03],\n",
      "          [ 1.9889e-03,  1.6262e-03,  1.7117e-03,  1.7924e-03,  1.7753e-03],\n",
      "          [ 2.2699e-03,  1.8963e-03,  1.8374e-03,  1.7430e-03,  1.7332e-03],\n",
      "          [ 1.9594e-03,  1.7437e-03,  1.4799e-03,  1.3687e-03,  1.5830e-03]]],\n",
      "\n",
      "\n",
      "        [[[ 3.5230e-04,  2.4829e-04, -2.2704e-05, -7.1119e-06, -1.2375e-04],\n",
      "          [ 3.2629e-04,  2.3160e-04, -2.9344e-06,  5.5650e-05,  5.2870e-05],\n",
      "          [ 3.1886e-04,  2.6896e-04,  1.0799e-04,  1.9074e-04,  7.6617e-05],\n",
      "          [ 4.4803e-04,  4.4703e-04,  2.2000e-04,  1.7348e-04, -5.2623e-05],\n",
      "          [ 5.6292e-04,  4.3646e-04,  2.2759e-04,  1.5130e-04, -1.0310e-04]]]])\n"
     ]
    }
   ],
   "source": [
    "print(network.conv1.weight.grad)"
   ]
  },
  {
   "cell_type": "code",
   "execution_count": null,
   "metadata": {},
   "outputs": [],
   "source": []
  },
  {
   "cell_type": "markdown",
   "metadata": {},
   "source": [
    "#### Updating Weights"
   ]
  },
  {
   "cell_type": "code",
   "execution_count": 36,
   "metadata": {},
   "outputs": [],
   "source": [
    "optimizer=optim.Adam(network.parameters(),lr=0.01)"
   ]
  },
  {
   "cell_type": "code",
   "execution_count": 37,
   "metadata": {},
   "outputs": [
    {
     "data": {
      "text/plain": [
       "2.298187017440796"
      ]
     },
     "execution_count": 37,
     "metadata": {},
     "output_type": "execute_result"
    }
   ],
   "source": [
    "loss.item()"
   ]
  },
  {
   "cell_type": "code",
   "execution_count": 38,
   "metadata": {},
   "outputs": [
    {
     "data": {
      "text/plain": [
       "8"
      ]
     },
     "execution_count": 38,
     "metadata": {},
     "output_type": "execute_result"
    }
   ],
   "source": [
    "get_num_correct(preds,labels)"
   ]
  },
  {
   "cell_type": "code",
   "execution_count": 39,
   "metadata": {},
   "outputs": [],
   "source": [
    "optimizer.step()   #updating weights"
   ]
  },
  {
   "cell_type": "code",
   "execution_count": null,
   "metadata": {},
   "outputs": [],
   "source": []
  },
  {
   "cell_type": "code",
   "execution_count": 40,
   "metadata": {},
   "outputs": [],
   "source": [
    "preds=network(images)\n",
    "loss=functional.cross_entropy(preds,labels)"
   ]
  },
  {
   "cell_type": "code",
   "execution_count": 41,
   "metadata": {},
   "outputs": [
    {
     "data": {
      "text/plain": [
       "2.2779154777526855"
      ]
     },
     "execution_count": 41,
     "metadata": {},
     "output_type": "execute_result"
    }
   ],
   "source": [
    "loss.item()"
   ]
  },
  {
   "cell_type": "code",
   "execution_count": 42,
   "metadata": {},
   "outputs": [
    {
     "data": {
      "text/plain": [
       "12"
      ]
     },
     "execution_count": 42,
     "metadata": {},
     "output_type": "execute_result"
    }
   ],
   "source": [
    "get_num_correct(preds,labels)"
   ]
  },
  {
   "cell_type": "code",
   "execution_count": null,
   "metadata": {},
   "outputs": [],
   "source": []
  },
  {
   "cell_type": "markdown",
   "metadata": {},
   "source": [
    "#### Training with a single batch"
   ]
  },
  {
   "cell_type": "code",
   "execution_count": 43,
   "metadata": {},
   "outputs": [
    {
     "name": "stdout",
     "output_type": "stream",
     "text": [
      "loss1: 2.310572862625122\n",
      "loss2: 2.288886070251465\n"
     ]
    }
   ],
   "source": [
    "network=Network()\n",
    "\n",
    "train_loader=torch.utils.data.DataLoader(train_set,batch_size=100)\n",
    "optimizer=optim.Adam(network.parameters(),lr=0.01)\n",
    "\n",
    "batch=next(iter(train_loader))  #Get Batch\n",
    "images,labels=batch\n",
    "\n",
    "preds=network(images)    #Pass Batch\n",
    "loss=functional.cross_entropy(preds,labels)  #Calculate Loss\n",
    "\n",
    "loss.backward()   #Calculate Gradients\n",
    "optimizer.step()   #Updating Weights\n",
    "\n",
    "print(\"loss1:\",loss.item())\n",
    "preds=network(images)\n",
    "loss=functional.cross_entropy(preds,labels)\n",
    "print(\"loss2:\",loss.item())"
   ]
  },
  {
   "cell_type": "code",
   "execution_count": null,
   "metadata": {},
   "outputs": [],
   "source": []
  },
  {
   "cell_type": "markdown",
   "metadata": {},
   "source": [
    "#### Training with single Epoch"
   ]
  },
  {
   "cell_type": "code",
   "execution_count": 44,
   "metadata": {},
   "outputs": [
    {
     "name": "stdout",
     "output_type": "stream",
     "text": [
      "epoch: 0 \ttotal correct: 45863 \tloss: 375.5275719463825\n"
     ]
    }
   ],
   "source": [
    "network=Network()\n",
    "\n",
    "train_loader=torch.utils.data.DataLoader(train_set,batch_size=100)\n",
    "optimizer=optim.Adam(network.parameters(),lr=0.01)\n",
    "\n",
    "total_loss=0\n",
    "total_correct=0\n",
    "\n",
    "for batch in train_loader:   #get Batch\n",
    "    images,labels=batch\n",
    "    \n",
    "    preds=network(images)  #passing the Batch Images\n",
    "    loss=functional.cross_entropy(preds,labels)   #calculating Loss\n",
    "    \n",
    "    optimizer.zero_grad()\n",
    "    loss.backward()  # Calculate Gradients\n",
    "    optimizer.step()  #updating weights\n",
    "    \n",
    "    total_loss+=loss.item()\n",
    "    total_correct+=get_num_correct(preds,labels)\n",
    "    \n",
    "print(\"epoch:\",0,\"\\ttotal correct:\",total_correct,\"\\tloss:\",total_loss)"
   ]
  },
  {
   "cell_type": "code",
   "execution_count": 45,
   "metadata": {},
   "outputs": [
    {
     "data": {
      "text/plain": [
       "0.7643833333333333"
      ]
     },
     "execution_count": 45,
     "metadata": {},
     "output_type": "execute_result"
    }
   ],
   "source": [
    "total_correct/len(train_set)"
   ]
  },
  {
   "cell_type": "code",
   "execution_count": null,
   "metadata": {},
   "outputs": [],
   "source": []
  },
  {
   "cell_type": "markdown",
   "metadata": {},
   "source": [
    "#### Training with multiple epochs"
   ]
  },
  {
   "cell_type": "code",
   "execution_count": 46,
   "metadata": {
    "scrolled": true
   },
   "outputs": [
    {
     "name": "stdout",
     "output_type": "stream",
     "text": [
      "epoch: 0 \ttotal correct: 46539 \tloss: 353.67214247584343\n",
      "epoch: 1 \ttotal correct: 51119 \tloss: 240.8913303911686\n",
      "epoch: 2 \ttotal correct: 51966 \tloss: 217.85208143293858\n",
      "epoch: 3 \ttotal correct: 52430 \tloss: 205.96035438776016\n",
      "epoch: 4 \ttotal correct: 52627 \tloss: 199.46251049637794\n",
      "epoch: 5 \ttotal correct: 52614 \tloss: 199.57604178786278\n",
      "epoch: 6 \ttotal correct: 52857 \tloss: 194.43107126653194\n",
      "epoch: 7 \ttotal correct: 53005 \tloss: 190.19193750619888\n",
      "epoch: 8 \ttotal correct: 53035 \tloss: 187.46607506275177\n",
      "epoch: 9 \ttotal correct: 53102 \tloss: 188.02320240437984\n"
     ]
    }
   ],
   "source": [
    "network=Network()\n",
    "\n",
    "train_loader=torch.utils.data.DataLoader(train_set,batch_size=100)\n",
    "optimizer=optim.Adam(network.parameters(),lr=0.01)\n",
    "\n",
    "for epoch in range(10):\n",
    "    total_loss=0\n",
    "    total_correct=0\n",
    "\n",
    "    for batch in train_loader:   #get Batch\n",
    "        images,labels=batch\n",
    "\n",
    "        preds=network(images)  #passing the Batch Images\n",
    "        loss=functional.cross_entropy(preds,labels)   #calculating Loss\n",
    "\n",
    "        optimizer.zero_grad()\n",
    "        loss.backward()  # Calculate Gradients\n",
    "        optimizer.step()  #updating weights\n",
    "\n",
    "        total_loss+=loss.item()\n",
    "        total_correct+=get_num_correct(preds,labels)\n",
    "\n",
    "    print(\"epoch:\",epoch,\"\\ttotal correct:\",total_correct,\"\\tloss:\",total_loss)"
   ]
  },
  {
   "cell_type": "code",
   "execution_count": 47,
   "metadata": {},
   "outputs": [
    {
     "data": {
      "text/plain": [
       "0.8850333333333333"
      ]
     },
     "execution_count": 47,
     "metadata": {},
     "output_type": "execute_result"
    }
   ],
   "source": [
    "total_correct/len(train_set)"
   ]
  },
  {
   "cell_type": "code",
   "execution_count": null,
   "metadata": {},
   "outputs": [],
   "source": []
  },
  {
   "cell_type": "code",
   "execution_count": null,
   "metadata": {},
   "outputs": [],
   "source": []
  },
  {
   "cell_type": "markdown",
   "metadata": {},
   "source": [
    "#### Confusion Matrix"
   ]
  },
  {
   "cell_type": "code",
   "execution_count": 48,
   "metadata": {},
   "outputs": [
    {
     "data": {
      "text/plain": [
       "60000"
      ]
     },
     "execution_count": 48,
     "metadata": {},
     "output_type": "execute_result"
    }
   ],
   "source": [
    "len(train_set)"
   ]
  },
  {
   "cell_type": "code",
   "execution_count": 49,
   "metadata": {},
   "outputs": [
    {
     "data": {
      "text/plain": [
       "60000"
      ]
     },
     "execution_count": 49,
     "metadata": {},
     "output_type": "execute_result"
    }
   ],
   "source": [
    "len(train_set.targets)"
   ]
  },
  {
   "cell_type": "code",
   "execution_count": 50,
   "metadata": {},
   "outputs": [],
   "source": [
    "def get_all_preds(model,loader):\n",
    "    all_preds=torch.tensor([])\n",
    "    for batch in loader:\n",
    "        images,labels=batch\n",
    "        \n",
    "        preds=network(images)\n",
    "        all_preds=torch.cat((all_preds,preds),dim=0)\n",
    "    \n",
    "    return all_preds"
   ]
  },
  {
   "cell_type": "code",
   "execution_count": 51,
   "metadata": {},
   "outputs": [],
   "source": [
    "prediction_loader=torch.utils.data.DataLoader(train_set,batch_size=10000)\n",
    "train_preds=get_all_preds(network,prediction_loader)"
   ]
  },
  {
   "cell_type": "code",
   "execution_count": 52,
   "metadata": {},
   "outputs": [
    {
     "data": {
      "text/plain": [
       "torch.Size([60000, 10])"
      ]
     },
     "execution_count": 52,
     "metadata": {},
     "output_type": "execute_result"
    }
   ],
   "source": [
    "train_preds.shape"
   ]
  },
  {
   "cell_type": "code",
   "execution_count": 53,
   "metadata": {},
   "outputs": [
    {
     "name": "stdout",
     "output_type": "stream",
     "text": [
      "True\n"
     ]
    }
   ],
   "source": [
    "print(train_preds.requires_grad)"
   ]
  },
  {
   "cell_type": "code",
   "execution_count": 54,
   "metadata": {},
   "outputs": [
    {
     "name": "stderr",
     "output_type": "stream",
     "text": [
      "<ipython-input-54-54316e76a7d0>:1: UserWarning: The .grad attribute of a Tensor that is not a leaf Tensor is being accessed. Its .grad attribute won't be populated during autograd.backward(). If you indeed want the gradient for a non-leaf Tensor, use .retain_grad() on the non-leaf Tensor. If you access the non-leaf Tensor by mistake, make sure you access the leaf Tensor instead. See github.com/pytorch/pytorch/pull/30531 for more informations.\n",
      "  train_preds.grad\n"
     ]
    }
   ],
   "source": [
    "train_preds.grad"
   ]
  },
  {
   "cell_type": "code",
   "execution_count": 55,
   "metadata": {},
   "outputs": [
    {
     "data": {
      "text/plain": [
       "<CatBackward at 0x7f85243cd940>"
      ]
     },
     "execution_count": 55,
     "metadata": {},
     "output_type": "execute_result"
    }
   ],
   "source": [
    "train_preds.grad_fn"
   ]
  },
  {
   "cell_type": "code",
   "execution_count": 56,
   "metadata": {},
   "outputs": [],
   "source": [
    "with torch.no_grad():\n",
    "    prediction_loader=torch.utils.data.DataLoader(train_set,batch_size=10000)\n",
    "    train_preds=get_all_preds(network,prediction_loader)"
   ]
  },
  {
   "cell_type": "code",
   "execution_count": 57,
   "metadata": {},
   "outputs": [
    {
     "name": "stdout",
     "output_type": "stream",
     "text": [
      "False\n"
     ]
    }
   ],
   "source": [
    "print(train_preds.requires_grad)"
   ]
  },
  {
   "cell_type": "code",
   "execution_count": 58,
   "metadata": {},
   "outputs": [],
   "source": [
    "train_preds.grad"
   ]
  },
  {
   "cell_type": "code",
   "execution_count": 59,
   "metadata": {},
   "outputs": [],
   "source": [
    "train_preds.grad_fn"
   ]
  },
  {
   "cell_type": "code",
   "execution_count": 60,
   "metadata": {},
   "outputs": [
    {
     "name": "stdout",
     "output_type": "stream",
     "text": [
      "total correct: 53284\n",
      "accuracy: 0.8880666666666667\n"
     ]
    }
   ],
   "source": [
    "preds_correct=get_num_correct(train_preds,train_set.targets)\n",
    "\n",
    "print(\"total correct:\",preds_correct)\n",
    "print(\"accuracy:\",preds_correct/len(train_set))"
   ]
  },
  {
   "cell_type": "code",
   "execution_count": null,
   "metadata": {},
   "outputs": [],
   "source": []
  },
  {
   "cell_type": "markdown",
   "metadata": {},
   "source": [
    "#### Building confusion matrix"
   ]
  },
  {
   "cell_type": "code",
   "execution_count": 61,
   "metadata": {},
   "outputs": [
    {
     "data": {
      "text/plain": [
       "tensor([9, 0, 0,  ..., 3, 0, 5])"
      ]
     },
     "execution_count": 61,
     "metadata": {},
     "output_type": "execute_result"
    }
   ],
   "source": [
    "train_set.targets"
   ]
  },
  {
   "cell_type": "code",
   "execution_count": 62,
   "metadata": {},
   "outputs": [
    {
     "data": {
      "text/plain": [
       "tensor([9, 0, 0,  ..., 3, 0, 5])"
      ]
     },
     "execution_count": 62,
     "metadata": {},
     "output_type": "execute_result"
    }
   ],
   "source": [
    "train_preds.argmax(dim=1)"
   ]
  },
  {
   "cell_type": "code",
   "execution_count": 63,
   "metadata": {},
   "outputs": [],
   "source": [
    "stacked=torch.stack((train_set.targets,train_preds.argmax(dim=1)),dim=1)"
   ]
  },
  {
   "cell_type": "code",
   "execution_count": 64,
   "metadata": {},
   "outputs": [
    {
     "data": {
      "text/plain": [
       "torch.Size([60000, 2])"
      ]
     },
     "execution_count": 64,
     "metadata": {},
     "output_type": "execute_result"
    }
   ],
   "source": [
    "stacked.shape"
   ]
  },
  {
   "cell_type": "code",
   "execution_count": 65,
   "metadata": {},
   "outputs": [
    {
     "data": {
      "text/plain": [
       "tensor([[9, 9],\n",
       "        [0, 0],\n",
       "        [0, 0],\n",
       "        ...,\n",
       "        [3, 3],\n",
       "        [0, 0],\n",
       "        [5, 5]])"
      ]
     },
     "execution_count": 65,
     "metadata": {},
     "output_type": "execute_result"
    }
   ],
   "source": [
    "stacked"
   ]
  },
  {
   "cell_type": "code",
   "execution_count": 66,
   "metadata": {},
   "outputs": [
    {
     "data": {
      "text/plain": [
       "tensor([9, 9])"
      ]
     },
     "execution_count": 66,
     "metadata": {},
     "output_type": "execute_result"
    }
   ],
   "source": [
    "stacked[0]"
   ]
  },
  {
   "cell_type": "code",
   "execution_count": 68,
   "metadata": {
    "scrolled": true
   },
   "outputs": [
    {
     "data": {
      "text/plain": [
       "[9, 9]"
      ]
     },
     "execution_count": 68,
     "metadata": {},
     "output_type": "execute_result"
    }
   ],
   "source": [
    "stacked[0].tolist()"
   ]
  },
  {
   "cell_type": "code",
   "execution_count": null,
   "metadata": {},
   "outputs": [],
   "source": []
  },
  {
   "cell_type": "code",
   "execution_count": 70,
   "metadata": {},
   "outputs": [
    {
     "data": {
      "text/plain": [
       "tensor([[0, 0, 0, 0, 0, 0, 0, 0, 0, 0],\n",
       "        [0, 0, 0, 0, 0, 0, 0, 0, 0, 0],\n",
       "        [0, 0, 0, 0, 0, 0, 0, 0, 0, 0],\n",
       "        [0, 0, 0, 0, 0, 0, 0, 0, 0, 0],\n",
       "        [0, 0, 0, 0, 0, 0, 0, 0, 0, 0],\n",
       "        [0, 0, 0, 0, 0, 0, 0, 0, 0, 0],\n",
       "        [0, 0, 0, 0, 0, 0, 0, 0, 0, 0],\n",
       "        [0, 0, 0, 0, 0, 0, 0, 0, 0, 0],\n",
       "        [0, 0, 0, 0, 0, 0, 0, 0, 0, 0],\n",
       "        [0, 0, 0, 0, 0, 0, 0, 0, 0, 0]])"
      ]
     },
     "execution_count": 70,
     "metadata": {},
     "output_type": "execute_result"
    }
   ],
   "source": [
    "cmt=torch.zeros(10,10,dtype=torch.int64)\n",
    "cmt"
   ]
  },
  {
   "cell_type": "code",
   "execution_count": 71,
   "metadata": {},
   "outputs": [],
   "source": [
    "for p in stacked:\n",
    "    t1,p1=p.tolist()\n",
    "    cmt[t1,p1]=cmt[t1,p1]+1"
   ]
  },
  {
   "cell_type": "code",
   "execution_count": 72,
   "metadata": {},
   "outputs": [
    {
     "data": {
      "text/plain": [
       "tensor([[5517,   46,   95,  100,   14,    4,  197,    0,   27,    0],\n",
       "        [   8, 5908,   13,   56,    4,    0,    8,    2,    1,    0],\n",
       "        [  73,    6, 4947,   64,  630,    0,  271,    0,    9,    0],\n",
       "        [ 221,  178,   13, 5410,   73,    1,   84,    1,   19,    0],\n",
       "        [   8,    8,  371,  440, 4783,    0,  379,    0,   11,    0],\n",
       "        [   1,    0,    2,    0,    0, 5864,    0,   73,   21,   39],\n",
       "        [1431,   31,  498,  123,  418,    0, 3455,    0,   42,    2],\n",
       "        [   0,    0,    0,    0,    0,   56,    0, 5664,   17,  263],\n",
       "        [  14,    4,    9,   14,   30,    8,   48,    0, 5870,    3],\n",
       "        [   0,    0,    0,    0,    0,   20,    0,  113,    1, 5866]])"
      ]
     },
     "execution_count": 72,
     "metadata": {},
     "output_type": "execute_result"
    }
   ],
   "source": [
    "cmt"
   ]
  },
  {
   "cell_type": "code",
   "execution_count": null,
   "metadata": {},
   "outputs": [],
   "source": []
  },
  {
   "cell_type": "markdown",
   "metadata": {},
   "source": [
    "#### Plotting a confusion matrix"
   ]
  },
  {
   "cell_type": "code",
   "execution_count": 73,
   "metadata": {},
   "outputs": [],
   "source": [
    "import matplotlib.pyplot as plt\n",
    "from sklearn.metrics import confusion_matrix"
   ]
  },
  {
   "cell_type": "code",
   "execution_count": 74,
   "metadata": {},
   "outputs": [
    {
     "name": "stdout",
     "output_type": "stream",
     "text": [
      "<class 'numpy.ndarray'>\n"
     ]
    },
    {
     "data": {
      "text/plain": [
       "array([[5517,   46,   95,  100,   14,    4,  197,    0,   27,    0],\n",
       "       [   8, 5908,   13,   56,    4,    0,    8,    2,    1,    0],\n",
       "       [  73,    6, 4947,   64,  630,    0,  271,    0,    9,    0],\n",
       "       [ 221,  178,   13, 5410,   73,    1,   84,    1,   19,    0],\n",
       "       [   8,    8,  371,  440, 4783,    0,  379,    0,   11,    0],\n",
       "       [   1,    0,    2,    0,    0, 5864,    0,   73,   21,   39],\n",
       "       [1431,   31,  498,  123,  418,    0, 3455,    0,   42,    2],\n",
       "       [   0,    0,    0,    0,    0,   56,    0, 5664,   17,  263],\n",
       "       [  14,    4,    9,   14,   30,    8,   48,    0, 5870,    3],\n",
       "       [   0,    0,    0,    0,    0,   20,    0,  113,    1, 5866]])"
      ]
     },
     "execution_count": 74,
     "metadata": {},
     "output_type": "execute_result"
    }
   ],
   "source": [
    "cm=confusion_matrix(train_set.targets,train_preds.argmax(dim=1))\n",
    "print(type(cm))\n",
    "cm"
   ]
  },
  {
   "cell_type": "code",
   "execution_count": null,
   "metadata": {},
   "outputs": [],
   "source": []
  },
  {
   "cell_type": "code",
   "execution_count": 76,
   "metadata": {},
   "outputs": [],
   "source": [
    "# Function to plot confusion matrix and heatmap"
   ]
  },
  {
   "cell_type": "code",
   "execution_count": 77,
   "metadata": {},
   "outputs": [],
   "source": [
    "import itertools\n",
    "import numpy as np\n",
    "import matplotlib.pyplot as plt\n",
    "\n",
    "def plot_confusion_matrix(cm, classes, normalize=False, title='Confusion matrix', cmap=plt.cm.Blues):\n",
    "    if normalize:\n",
    "        cm = cm.astype('float') / cm.sum(axis=1)[:, np.newaxis]\n",
    "        print(\"Normalized confusion matrix\")\n",
    "    else:\n",
    "        print('Confusion matrix, without normalization')\n",
    "\n",
    "    print(cm)\n",
    "    plt.imshow(cm, interpolation='nearest', cmap=cmap)\n",
    "    plt.title(title)\n",
    "    plt.colorbar()\n",
    "    tick_marks = np.arange(len(classes))\n",
    "    plt.xticks(tick_marks, classes, rotation=45)\n",
    "    plt.yticks(tick_marks, classes)\n",
    "\n",
    "    fmt = '.2f' if normalize else 'd'\n",
    "    thresh = cm.max() / 2.\n",
    "    for i, j in itertools.product(range(cm.shape[0]), range(cm.shape[1])):\n",
    "        plt.text(j, i, format(cm[i, j], fmt), horizontalalignment=\"center\", color=\"white\" if cm[i, j] > thresh else \"black\")\n",
    "\n",
    "    plt.tight_layout()\n",
    "    plt.ylabel('True label')\n",
    "    plt.xlabel('Predicted label')"
   ]
  },
  {
   "cell_type": "code",
   "execution_count": 78,
   "metadata": {},
   "outputs": [
    {
     "name": "stdout",
     "output_type": "stream",
     "text": [
      "Confusion matrix, without normalization\n",
      "[[5517   46   95  100   14    4  197    0   27    0]\n",
      " [   8 5908   13   56    4    0    8    2    1    0]\n",
      " [  73    6 4947   64  630    0  271    0    9    0]\n",
      " [ 221  178   13 5410   73    1   84    1   19    0]\n",
      " [   8    8  371  440 4783    0  379    0   11    0]\n",
      " [   1    0    2    0    0 5864    0   73   21   39]\n",
      " [1431   31  498  123  418    0 3455    0   42    2]\n",
      " [   0    0    0    0    0   56    0 5664   17  263]\n",
      " [  14    4    9   14   30    8   48    0 5870    3]\n",
      " [   0    0    0    0    0   20    0  113    1 5866]]\n"
     ]
    },
    {
     "data": {
      "image/png": "[encoded data removed]",
      "text/plain": [
       "<Figure size 720x720 with 2 Axes>"
      ]
     },
     "metadata": {
      "needs_background": "light"
     },
     "output_type": "display_data"
    }
   ],
   "source": [
    "plt.figure(figsize=(10,10))\n",
    "plot_confusion_matrix(cm,train_set.classes)"
   ]
  },
  {
   "cell_type": "code",
   "execution_count": null,
   "metadata": {},
   "outputs": [],
   "source": []
  },
  {
   "cell_type": "code",
   "execution_count": 79,
   "metadata": {},
   "outputs": [
    {
     "name": "stdout",
     "output_type": "stream",
     "text": [
      "Confusion matrix, without normalization\n",
      "tensor([[5517,   46,   95,  100,   14,    4,  197,    0,   27,    0],\n",
      "        [   8, 5908,   13,   56,    4,    0,    8,    2,    1,    0],\n",
      "        [  73,    6, 4947,   64,  630,    0,  271,    0,    9,    0],\n",
      "        [ 221,  178,   13, 5410,   73,    1,   84,    1,   19,    0],\n",
      "        [   8,    8,  371,  440, 4783,    0,  379,    0,   11,    0],\n",
      "        [   1,    0,    2,    0,    0, 5864,    0,   73,   21,   39],\n",
      "        [1431,   31,  498,  123,  418,    0, 3455,    0,   42,    2],\n",
      "        [   0,    0,    0,    0,    0,   56,    0, 5664,   17,  263],\n",
      "        [  14,    4,    9,   14,   30,    8,   48,    0, 5870,    3],\n",
      "        [   0,    0,    0,    0,    0,   20,    0,  113,    1, 5866]])\n"
     ]
    },
    {
     "data": {
      "image/png": "[encoded data removed]",
      "text/plain": [
       "<Figure size 720x720 with 2 Axes>"
      ]
     },
     "metadata": {
      "needs_background": "light"
     },
     "output_type": "display_data"
    }
   ],
   "source": [
    "plt.figure(figsize=(10,10))\n",
    "plot_confusion_matrix(cmt,train_set.classes)"
   ]
  },
  {
   "cell_type": "code",
   "execution_count": null,
   "metadata": {},
   "outputs": [],
   "source": []
  },
  {
   "cell_type": "code",
   "execution_count": null,
   "metadata": {},
   "outputs": [],
   "source": []
  }
 ],
 "metadata": {
  "kernelspec": {
   "display_name": "Python 3",
   "language": "python",
   "name": "python3"
  },
  "language_info": {
   "codemirror_mode": {
    "name": "ipython",
    "version": 3
   },
   "file_extension": ".py",
   "mimetype": "text/x-python",
   "name": "python",
   "nbconvert_exporter": "python",
   "pygments_lexer": "ipython3",
   "version": "3.8.5"
  }
 },
 "nbformat": 4,
 "nbformat_minor": 4
}
