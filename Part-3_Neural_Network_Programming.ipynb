{
 "cells": [
  {
   "cell_type": "code",
   "execution_count": 1,
   "metadata": {},
   "outputs": [],
   "source": [
    "import torch\n",
    "import torch.nn as nn\n",
    "import torch.nn.functional as functional\n",
    "\n",
    "import torchvision\n",
    "import torchvision.transforms as transforms    \n",
    "\n",
    "from torch.utils.tensorboard import SummaryWriter\n",
    "\n",
    "torch.set_printoptions(linewidth=120)"
   ]
  },
  {
   "cell_type": "code",
   "execution_count": 2,
   "metadata": {},
   "outputs": [
    {
     "name": "stdout",
     "output_type": "stream",
     "text": [
      "1.6.0\n",
      "0.7.0\n"
     ]
    }
   ],
   "source": [
    "print(torch.__version__)\n",
    "print(torchvision.__version__)"
   ]
  },
  {
   "cell_type": "code",
   "execution_count": 3,
   "metadata": {},
   "outputs": [],
   "source": [
    "train_set=torchvision.datasets.FashionMNIST(\n",
    "    root=\"./data\",train=True,download=True,\n",
    "    transform=transforms.Compose([transforms.ToTensor()]))"
   ]
  },
  {
   "cell_type": "code",
   "execution_count": 84,
   "metadata": {},
   "outputs": [],
   "source": [
    "from itertools import product"
   ]
  },
  {
   "cell_type": "code",
   "execution_count": 85,
   "metadata": {},
   "outputs": [],
   "source": [
    "parameters=dict(\n",
    "lr=[0.01,0.001],\n",
    "batch_size=[100,1000,10000],\n",
    "shuffle=[True,False])"
   ]
  },
  {
   "cell_type": "code",
   "execution_count": 86,
   "metadata": {},
   "outputs": [
    {
     "data": {
      "text/plain": [
       "[[0.01, 0.001], [100, 1000, 10000], [True, False]]"
      ]
     },
     "execution_count": 86,
     "metadata": {},
     "output_type": "execute_result"
    }
   ],
   "source": [
    "param_values=[v for v in parameters.values()]\n",
    "param_values"
   ]
  },
  {
   "cell_type": "code",
   "execution_count": 87,
   "metadata": {
    "scrolled": true
   },
   "outputs": [
    {
     "name": "stdout",
     "output_type": "stream",
     "text": [
      "0.01 100 True\n",
      "0.01 100 False\n",
      "0.01 1000 True\n",
      "0.01 1000 False\n",
      "0.01 10000 True\n",
      "0.01 10000 False\n",
      "0.001 100 True\n",
      "0.001 100 False\n",
      "0.001 1000 True\n",
      "0.001 1000 False\n",
      "0.001 10000 True\n",
      "0.001 10000 False\n"
     ]
    }
   ],
   "source": [
    "for lr,batch_size,shuffle in product(*param_values):\n",
    "    print(lr,batch_size,shuffle)"
   ]
  },
  {
   "cell_type": "code",
   "execution_count": null,
   "metadata": {},
   "outputs": [],
   "source": []
  },
  {
   "cell_type": "code",
   "execution_count": null,
   "metadata": {},
   "outputs": [],
   "source": []
  },
  {
   "cell_type": "code",
   "execution_count": 1,
   "metadata": {},
   "outputs": [
    {
     "ename": "NameError",
     "evalue": "name 'nn' is not defined",
     "output_type": "error",
     "traceback": [
      "\u001b[0;31m---------------------------------------------------------------------------\u001b[0m",
      "\u001b[0;31mNameError\u001b[0m                                 Traceback (most recent call last)",
      "\u001b[0;32m<ipython-input-1-5a5a4c74dc13>\u001b[0m in \u001b[0;36m<module>\u001b[0;34m\u001b[0m\n\u001b[0;32m----> 1\u001b[0;31m \u001b[0;32mclass\u001b[0m \u001b[0mNetwork\u001b[0m\u001b[0;34m(\u001b[0m\u001b[0mnn\u001b[0m\u001b[0;34m.\u001b[0m\u001b[0mModule\u001b[0m\u001b[0;34m)\u001b[0m\u001b[0;34m:\u001b[0m\u001b[0;34m\u001b[0m\u001b[0;34m\u001b[0m\u001b[0m\n\u001b[0m\u001b[1;32m      2\u001b[0m     \u001b[0;32mdef\u001b[0m \u001b[0m__init__\u001b[0m\u001b[0;34m(\u001b[0m\u001b[0mself\u001b[0m\u001b[0;34m)\u001b[0m\u001b[0;34m:\u001b[0m\u001b[0;34m\u001b[0m\u001b[0;34m\u001b[0m\u001b[0m\n\u001b[1;32m      3\u001b[0m         \u001b[0msuper\u001b[0m\u001b[0;34m(\u001b[0m\u001b[0;34m)\u001b[0m\u001b[0;34m.\u001b[0m\u001b[0m__init__\u001b[0m\u001b[0;34m(\u001b[0m\u001b[0;34m)\u001b[0m\u001b[0;34m\u001b[0m\u001b[0;34m\u001b[0m\u001b[0m\n\u001b[1;32m      4\u001b[0m         \u001b[0mself\u001b[0m\u001b[0;34m.\u001b[0m\u001b[0mconv1\u001b[0m\u001b[0;34m=\u001b[0m\u001b[0mnn\u001b[0m\u001b[0;34m.\u001b[0m\u001b[0mConv2d\u001b[0m\u001b[0;34m(\u001b[0m\u001b[0min_channels\u001b[0m\u001b[0;34m=\u001b[0m\u001b[0;36m1\u001b[0m\u001b[0;34m,\u001b[0m\u001b[0mout_channels\u001b[0m\u001b[0;34m=\u001b[0m\u001b[0;36m6\u001b[0m\u001b[0;34m,\u001b[0m\u001b[0mkernel_size\u001b[0m\u001b[0;34m=\u001b[0m\u001b[0;36m5\u001b[0m\u001b[0;34m)\u001b[0m\u001b[0;34m\u001b[0m\u001b[0;34m\u001b[0m\u001b[0m\n\u001b[1;32m      5\u001b[0m         \u001b[0mself\u001b[0m\u001b[0;34m.\u001b[0m\u001b[0mconv2\u001b[0m\u001b[0;34m=\u001b[0m\u001b[0mnn\u001b[0m\u001b[0;34m.\u001b[0m\u001b[0mConv2d\u001b[0m\u001b[0;34m(\u001b[0m\u001b[0min_channels\u001b[0m\u001b[0;34m=\u001b[0m\u001b[0;36m6\u001b[0m\u001b[0;34m,\u001b[0m\u001b[0mout_channels\u001b[0m\u001b[0;34m=\u001b[0m\u001b[0;36m12\u001b[0m\u001b[0;34m,\u001b[0m\u001b[0mkernel_size\u001b[0m\u001b[0;34m=\u001b[0m\u001b[0;36m5\u001b[0m\u001b[0;34m)\u001b[0m\u001b[0;34m\u001b[0m\u001b[0;34m\u001b[0m\u001b[0m\n",
      "\u001b[0;31mNameError\u001b[0m: name 'nn' is not defined"
     ]
    }
   ],
   "source": [
    "class Network(nn.Module):\n",
    "    def __init__(self):\n",
    "        super().__init__()\n",
    "        self.conv1=nn.Conv2d(in_channels=1,out_channels=6,kernel_size=5)\n",
    "        self.conv2=nn.Conv2d(in_channels=6,out_channels=12,kernel_size=5)\n",
    "        \n",
    "        self.fc1=nn.Linear(in_features=12*4*4,out_features=120)\n",
    "        self.fc2=nn.Linear(in_features=120,out_features=60)\n",
    "        self.out=nn.Linear(in_features=60,out_features=10)\n",
    "        \n",
    "    def forward(self,t):\n",
    "        # layer1-input layer\n",
    "        t=t\n",
    "        \n",
    "        # layer2-hidden conv layer        \n",
    "        t=self.conv1(t)\n",
    "        t=functional.relu(t)\n",
    "        t=functional.max_pool2d(t,kernel_size=2,stride=2)\n",
    "        \n",
    "        # layer3-hidden conv layer        \n",
    "        t=self.conv2(t)\n",
    "        t=functional.relu(t)\n",
    "        t=functional.max_pool2d(t,kernel_size=2,stride=2)\n",
    "        \n",
    "        # layer4-hidden linear layer        \n",
    "        t=t.reshape(-1,12*4*4)\n",
    "        t=self.fc1(t)\n",
    "        t=functional.relu(t)\n",
    "        \n",
    "        # layer5-hidden linear layer        \n",
    "        t=self.fc2(t)\n",
    "        t=functional.relu(t)\n",
    "        \n",
    "        # layer6-output layer        \n",
    "        t=self.out(t)\n",
    "        \n",
    "        return t"
   ]
  },
  {
   "cell_type": "code",
   "execution_count": 90,
   "metadata": {
    "scrolled": false
   },
   "outputs": [
    {
     "name": "stdout",
     "output_type": "stream",
     "text": [
      "epoch: 0 \ttotal correct: 45445 \tloss: 37789.141592383385\n",
      "epoch: 1 \ttotal correct: 50587 \tloss: 25209.98557806015\n",
      "epoch: 2 \ttotal correct: 51641 \tloss: 22463.973058760166\n",
      "epoch: 3 \ttotal correct: 51876 \tloss: 21724.156667292118\n",
      "epoch: 4 \ttotal correct: 52154 \tloss: 21208.325712382793\n",
      "epoch: 0 \ttotal correct: 44720 \tloss: 39576.828956604004\n",
      "epoch: 1 \ttotal correct: 50530 \tloss: 25688.51349800825\n",
      "epoch: 2 \ttotal correct: 51418 \tloss: 23184.282341599464\n",
      "epoch: 3 \ttotal correct: 51952 \tloss: 21709.263309836388\n",
      "epoch: 4 \ttotal correct: 52156 \tloss: 21074.83551055193\n",
      "epoch: 0 \ttotal correct: 39947 \tloss: 53183.35747718811\n",
      "epoch: 1 \ttotal correct: 48487 \tloss: 30718.659669160843\n",
      "epoch: 2 \ttotal correct: 50415 \tloss: 25774.30111169815\n",
      "epoch: 3 \ttotal correct: 51494 \tloss: 23071.226447820663\n",
      "epoch: 4 \ttotal correct: 52302 \tloss: 20894.53077316284\n",
      "epoch: 0 \ttotal correct: 37113 \tloss: 57991.402208805084\n",
      "epoch: 1 \ttotal correct: 47005 \tloss: 32657.3386490345\n",
      "epoch: 2 \ttotal correct: 49585 \tloss: 27601.84907913208\n",
      "epoch: 3 \ttotal correct: 50974 \tloss: 24272.209852933884\n",
      "epoch: 4 \ttotal correct: 51639 \tloss: 22311.12712621689\n",
      "epoch: 0 \ttotal correct: 13205 \tloss: 128402.35471725464\n",
      "epoch: 1 \ttotal correct: 22706 \tloss: 92561.65862083435\n",
      "epoch: 2 \ttotal correct: 34790 \tloss: 65507.259368896484\n",
      "epoch: 3 \ttotal correct: 39488 \tloss: 52496.708035469055\n",
      "epoch: 4 \ttotal correct: 41895 \tloss: 46179.21948432922\n",
      "epoch: 0 \ttotal correct: 9604 \tloss: 132600.82960128784\n",
      "epoch: 1 \ttotal correct: 15235 \tloss: 119541.90850257874\n",
      "epoch: 2 \ttotal correct: 29927 \tloss: 81983.18839073181\n",
      "epoch: 3 \ttotal correct: 35514 \tloss: 64159.20674800873\n",
      "epoch: 4 \ttotal correct: 39415 \tloss: 53732.2199344635\n",
      "epoch: 0 \ttotal correct: 41193 \tloss: 49677.515545487404\n",
      "epoch: 1 \ttotal correct: 47790 \tloss: 32418.24301481247\n",
      "epoch: 2 \ttotal correct: 49836 \tloss: 27927.632275223732\n",
      "epoch: 3 \ttotal correct: 50926 \tloss: 25087.843511998653\n",
      "epoch: 4 \ttotal correct: 51757 \tloss: 22887.585747241974\n",
      "epoch: 0 \ttotal correct: 41771 \tloss: 47831.9514721632\n",
      "epoch: 1 \ttotal correct: 48178 \tloss: 31539.391067624092\n",
      "epoch: 2 \ttotal correct: 50151 \tloss: 26907.94605612755\n",
      "epoch: 3 \ttotal correct: 51067 \tloss: 24318.04583966732\n",
      "epoch: 4 \ttotal correct: 51764 \tloss: 22570.681662857533\n",
      "epoch: 0 \ttotal correct: 27946 \tloss: 90846.00222110748\n",
      "epoch: 1 \ttotal correct: 42213 \tloss: 46227.33378410339\n",
      "epoch: 2 \ttotal correct: 44107 \tloss: 40838.76085281372\n",
      "epoch: 3 \ttotal correct: 45462 \tloss: 37896.57896757126\n",
      "epoch: 4 \ttotal correct: 46365 \tloss: 35760.73205471039\n",
      "epoch: 0 \ttotal correct: 26950 \tloss: 92194.33641433716\n",
      "epoch: 1 \ttotal correct: 42968 \tloss: 45226.21726989746\n",
      "epoch: 2 \ttotal correct: 45089 \tloss: 38728.98471355438\n",
      "epoch: 3 \ttotal correct: 46318 \tloss: 35332.16506242752\n",
      "epoch: 4 \ttotal correct: 47297 \tloss: 33012.97044754028\n",
      "epoch: 0 \ttotal correct: 11353 \tloss: 137653.7585258484\n",
      "epoch: 1 \ttotal correct: 15521 \tloss: 134761.68632507324\n",
      "epoch: 2 \ttotal correct: 19517 \tloss: 126892.95053482056\n",
      "epoch: 3 \ttotal correct: 22040 \tloss: 110348.0851650238\n",
      "epoch: 4 \ttotal correct: 30801 \tloss: 88275.3849029541\n",
      "epoch: 0 \ttotal correct: 6000 \tloss: 137857.1653366089\n",
      "epoch: 1 \ttotal correct: 8445 \tloss: 135749.25661087036\n",
      "epoch: 2 \ttotal correct: 13333 \tloss: 130330.79385757446\n",
      "epoch: 3 \ttotal correct: 19235 \tloss: 117868.28637123108\n",
      "epoch: 4 \ttotal correct: 27943 \tloss: 96613.96980285645\n"
     ]
    }
   ],
   "source": [
    "for lr, batch_size, shuffle in product(*param_values):\n",
    "    network=Network()\n",
    "\n",
    "    train_loader=torch.utils.data.DataLoader(train_set,batch_size=batch_size,shuffle=shuffle)\n",
    "    optimizer=optim.Adam(network.parameters(),lr=lr)\n",
    "\n",
    "    images,labels=next(iter(train_loader))\n",
    "    grid=torchvision.utils.make_grid(images)\n",
    "\n",
    "    comment=f\" batch_size={batch_size} lr={lr} shuffle={shuffle}\"\n",
    "    tb=SummaryWriter(comment=comment)\n",
    "    tb.add_image(\"images\",grid)\n",
    "    tb.add_graph(network,images)\n",
    "\n",
    "    for epoch in range(5):\n",
    "        total_loss=0\n",
    "        total_correct=0\n",
    "\n",
    "        for batch in train_loader:   #get Batch\n",
    "            images,labels=batch\n",
    "\n",
    "            preds=network(images)  #passing the Batch Images\n",
    "            loss=functional.cross_entropy(preds,labels)   #calculating Loss\n",
    "\n",
    "            optimizer.zero_grad()  #Zero gradient\n",
    "            loss.backward()  # Calculate Gradients\n",
    "            optimizer.step()  #updating weights\n",
    "\n",
    "            total_loss+=loss.item() * batch_size\n",
    "            total_correct+=get_num_correct(preds,labels)\n",
    "\n",
    "        tb.add_scalar(\"Loss\",total_loss,epoch)\n",
    "        tb.add_scalar(\"Number Correct\",total_correct,epoch)\n",
    "        tb.add_scalar(\"Accuracy\",total_correct/len(train_set),epoch)\n",
    "\n",
    "        for name,weight in network.named_parameters():\n",
    "            tb.add_histogram(name,weight,epoch)\n",
    "            tb.add_histogram(f\"{name}.grad\",weight.grad,epoch)\n",
    "\n",
    "        print(\"epoch:\",epoch,\"\\ttotal correct:\",total_correct,\"\\tloss:\",total_loss)\n",
    "\n",
    "    tb.close()"
   ]
  },
  {
   "cell_type": "code",
   "execution_count": null,
   "metadata": {},
   "outputs": [],
   "source": []
  },
  {
   "cell_type": "code",
   "execution_count": 2,
   "metadata": {},
   "outputs": [],
   "source": [
    "from collections import OrderedDict\n",
    "from collections import namedtuple\n",
    "from itertools import product"
   ]
  },
  {
   "cell_type": "code",
   "execution_count": 6,
   "metadata": {},
   "outputs": [],
   "source": [
    "class RunBuilder():\n",
    "    \n",
    "    @staticmethod\n",
    "    def get_runs(params):\n",
    "        Run=namedtuple(\"Run\",params.keys())\n",
    "        \n",
    "        runs =[]\n",
    "        for v in product(*params.values()):\n",
    "            runs.append(Run(*v))\n",
    "        \n",
    "        return runs"
   ]
  },
  {
   "cell_type": "code",
   "execution_count": 7,
   "metadata": {},
   "outputs": [],
   "source": [
    "params=OrderedDict(lr=[0.01,0.001],\n",
    "                   batch_size=[100,1000])"
   ]
  },
  {
   "cell_type": "code",
   "execution_count": 8,
   "metadata": {},
   "outputs": [
    {
     "data": {
      "text/plain": [
       "[Run(lr=0.01, batch_size=100),\n",
       " Run(lr=0.01, batch_size=1000),\n",
       " Run(lr=0.001, batch_size=100),\n",
       " Run(lr=0.001, batch_size=1000)]"
      ]
     },
     "execution_count": 8,
     "metadata": {},
     "output_type": "execute_result"
    }
   ],
   "source": [
    "runs=RunBuilder.get_runs(params)\n",
    "runs"
   ]
  },
  {
   "cell_type": "code",
   "execution_count": 10,
   "metadata": {},
   "outputs": [
    {
     "data": {
      "text/plain": [
       "Run(lr=0.01, batch_size=100)"
      ]
     },
     "execution_count": 10,
     "metadata": {},
     "output_type": "execute_result"
    }
   ],
   "source": [
    "run=runs[0]\n",
    "run"
   ]
  },
  {
   "cell_type": "code",
   "execution_count": 11,
   "metadata": {},
   "outputs": [
    {
     "name": "stdout",
     "output_type": "stream",
     "text": [
      "0.01 100\n"
     ]
    }
   ],
   "source": [
    "print(run.lr,run.batch_size)"
   ]
  },
  {
   "cell_type": "code",
   "execution_count": 12,
   "metadata": {},
   "outputs": [
    {
     "name": "stdout",
     "output_type": "stream",
     "text": [
      "Run(lr=0.01, batch_size=100) 0.01 100\n",
      "Run(lr=0.01, batch_size=1000) 0.01 1000\n",
      "Run(lr=0.001, batch_size=100) 0.001 100\n",
      "Run(lr=0.001, batch_size=1000) 0.001 1000\n"
     ]
    }
   ],
   "source": [
    "for run in runs:\n",
    "    print(run,run.lr,run.batch_size)"
   ]
  },
  {
   "cell_type": "code",
   "execution_count": null,
   "metadata": {},
   "outputs": [],
   "source": []
  }
 ],
 "metadata": {
  "kernelspec": {
   "display_name": "Python 3",
   "language": "python",
   "name": "python3"
  },
  "language_info": {
   "codemirror_mode": {
    "name": "ipython",
    "version": 3
   },
   "file_extension": ".py",
   "mimetype": "text/x-python",
   "name": "python",
   "nbconvert_exporter": "python",
   "pygments_lexer": "ipython3",
   "version": "3.8.5"
  }
 },
 "nbformat": 4,
 "nbformat_minor": 4
}
