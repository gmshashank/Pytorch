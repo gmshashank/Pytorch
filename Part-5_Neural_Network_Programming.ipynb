{
 "cells": [
  {
   "cell_type": "code",
   "execution_count": 1,
   "metadata": {},
   "outputs": [],
   "source": [
    "import torch\n",
    "import torch.nn as nn\n",
    "import torch.optim as optim\n",
    "import torch.nn.functional as functional\n",
    "\n",
    "import torchvision \n",
    "import torchvision.transforms as transforms\n",
    "\n",
    "from torch.utils.data import DataLoader\n",
    "from torch.utils.tensorboard import SummaryWriter\n",
    "from IPython.display import display,clear_output\n",
    "import pandas as pd\n",
    "import time\n",
    "import json\n",
    "\n",
    "from itertools import product\n",
    "from collections import OrderedDict\n",
    "from collections import namedtuple"
   ]
  },
  {
   "cell_type": "code",
   "execution_count": 2,
   "metadata": {},
   "outputs": [],
   "source": [
    "train_set=torchvision.datasets.FashionMNIST(\n",
    "    root=\"./data\",train=True,download=True,\n",
    "    transform=transforms.Compose([transforms.ToTensor()]))"
   ]
  },
  {
   "cell_type": "code",
   "execution_count": 3,
   "metadata": {},
   "outputs": [],
   "source": [
    "class Network(nn.Module):\n",
    "    def __init__(self):\n",
    "        super().__init__()\n",
    "        self.conv1=nn.Conv2d(in_channels=1,out_channels=6,kernel_size=5)\n",
    "        self.conv2=nn.Conv2d(in_channels=6,out_channels=12,kernel_size=5)\n",
    "        \n",
    "        self.fc1=nn.Linear(in_features=12*4*4,out_features=120)\n",
    "        self.fc2=nn.Linear(in_features=120,out_features=60)\n",
    "        self.out=nn.Linear(in_features=60,out_features=10)\n",
    "        \n",
    "    def forward(self,t):\n",
    "        # layer1-input layer\n",
    "        t=t\n",
    "        \n",
    "        # layer2-hidden conv layer        \n",
    "        t=self.conv1(t)\n",
    "        t=functional.relu(t)\n",
    "        t=functional.max_pool2d(t,kernel_size=2,stride=2)\n",
    "        \n",
    "        # layer3-hidden conv layer        \n",
    "        t=self.conv2(t)\n",
    "        t=functional.relu(t)\n",
    "        t=functional.max_pool2d(t,kernel_size=2,stride=2)\n",
    "        \n",
    "        # layer4-hidden linear layer        \n",
    "        t=t.reshape(-1,12*4*4)\n",
    "        t=self.fc1(t)\n",
    "        t=functional.relu(t)\n",
    "        \n",
    "        # layer5-hidden linear layer        \n",
    "        t=self.fc2(t)\n",
    "        t=functional.relu(t)\n",
    "        \n",
    "        # layer6-output layer        \n",
    "        t=self.out(t)\n",
    "        \n",
    "        return t"
   ]
  },
  {
   "cell_type": "markdown",
   "metadata": {},
   "source": [
    "#### Moving to GPU"
   ]
  },
  {
   "cell_type": "code",
   "execution_count": 4,
   "metadata": {},
   "outputs": [],
   "source": [
    "t=torch.ones(1,1,28,28)\n",
    "network=Network()"
   ]
  },
  {
   "cell_type": "code",
   "execution_count": 5,
   "metadata": {},
   "outputs": [],
   "source": [
    "t=t.cuda()\n",
    "network=network.cuda()"
   ]
  },
  {
   "cell_type": "code",
   "execution_count": 6,
   "metadata": {},
   "outputs": [
    {
     "data": {
      "text/plain": [
       "device(type='cuda', index=0)"
      ]
     },
     "execution_count": 6,
     "metadata": {},
     "output_type": "execute_result"
    }
   ],
   "source": [
    "gpu_pred=network(t)\n",
    "gpu_pred.device"
   ]
  },
  {
   "cell_type": "markdown",
   "metadata": {},
   "source": [
    "#### Moving to CPU"
   ]
  },
  {
   "cell_type": "code",
   "execution_count": 7,
   "metadata": {},
   "outputs": [],
   "source": [
    "t=t.cpu()\n",
    "network=network.cpu()"
   ]
  },
  {
   "cell_type": "code",
   "execution_count": 8,
   "metadata": {},
   "outputs": [
    {
     "data": {
      "text/plain": [
       "device(type='cpu')"
      ]
     },
     "execution_count": 8,
     "metadata": {},
     "output_type": "execute_result"
    }
   ],
   "source": [
    "cpu_pred=network(t)\n",
    "cpu_pred.device"
   ]
  },
  {
   "cell_type": "code",
   "execution_count": null,
   "metadata": {},
   "outputs": [],
   "source": []
  },
  {
   "cell_type": "markdown",
   "metadata": {},
   "source": [
    "### Working with Tensors"
   ]
  },
  {
   "cell_type": "code",
   "execution_count": 9,
   "metadata": {},
   "outputs": [],
   "source": [
    "t1=torch.tensor([[1,2],[3,4]])\n",
    "t2=torch.tensor([[5,6],[7,8]])"
   ]
  },
  {
   "cell_type": "code",
   "execution_count": 10,
   "metadata": {},
   "outputs": [
    {
     "data": {
      "text/plain": [
       "(device(type='cpu'), device(type='cpu'))"
      ]
     },
     "execution_count": 10,
     "metadata": {},
     "output_type": "execute_result"
    }
   ],
   "source": [
    "t1.device,t2.device"
   ]
  },
  {
   "cell_type": "code",
   "execution_count": 11,
   "metadata": {},
   "outputs": [
    {
     "data": {
      "text/plain": [
       "device(type='cuda', index=0)"
      ]
     },
     "execution_count": 11,
     "metadata": {},
     "output_type": "execute_result"
    }
   ],
   "source": [
    "t1=t1.cuda()\n",
    "t1.device"
   ]
  },
  {
   "cell_type": "code",
   "execution_count": 12,
   "metadata": {},
   "outputs": [
    {
     "name": "stdout",
     "output_type": "stream",
     "text": [
      "Expected all tensors to be on the same device, but found at least two devices, cuda:0 and cpu!\n"
     ]
    }
   ],
   "source": [
    "try: t1+t2\n",
    "except Exception as e:print(e)"
   ]
  },
  {
   "cell_type": "code",
   "execution_count": 13,
   "metadata": {},
   "outputs": [
    {
     "name": "stdout",
     "output_type": "stream",
     "text": [
      "Expected all tensors to be on the same device, but found at least two devices, cuda:0 and cpu!\n"
     ]
    }
   ],
   "source": [
    "try: t2+t1\n",
    "except Exception as e:print(e)"
   ]
  },
  {
   "cell_type": "code",
   "execution_count": 14,
   "metadata": {},
   "outputs": [],
   "source": [
    "t2=t2.to('cuda')"
   ]
  },
  {
   "cell_type": "code",
   "execution_count": 15,
   "metadata": {},
   "outputs": [],
   "source": [
    "t2=t2.cuda()"
   ]
  },
  {
   "cell_type": "code",
   "execution_count": 16,
   "metadata": {},
   "outputs": [
    {
     "data": {
      "text/plain": [
       "tensor([[ 6,  8],\n",
       "        [10, 12]], device='cuda:0')"
      ]
     },
     "execution_count": 16,
     "metadata": {},
     "output_type": "execute_result"
    }
   ],
   "source": [
    "t1+t2"
   ]
  },
  {
   "cell_type": "code",
   "execution_count": null,
   "metadata": {},
   "outputs": [],
   "source": []
  },
  {
   "cell_type": "markdown",
   "metadata": {},
   "source": [
    "#### Working with NN Modules"
   ]
  },
  {
   "cell_type": "code",
   "execution_count": 17,
   "metadata": {},
   "outputs": [],
   "source": [
    "network=Network()"
   ]
  },
  {
   "cell_type": "code",
   "execution_count": 18,
   "metadata": {},
   "outputs": [
    {
     "name": "stdout",
     "output_type": "stream",
     "text": [
      "conv1.weight \t\t cpu \t\t torch.Size([6, 1, 5, 5])\n",
      "conv1.bias \t\t cpu \t\t torch.Size([6])\n",
      "conv2.weight \t\t cpu \t\t torch.Size([12, 6, 5, 5])\n",
      "conv2.bias \t\t cpu \t\t torch.Size([12])\n",
      "fc1.weight \t\t cpu \t\t torch.Size([120, 192])\n",
      "fc1.bias \t\t cpu \t\t torch.Size([120])\n",
      "fc2.weight \t\t cpu \t\t torch.Size([60, 120])\n",
      "fc2.bias \t\t cpu \t\t torch.Size([60])\n",
      "out.weight \t\t cpu \t\t torch.Size([10, 60])\n",
      "out.bias \t\t cpu \t\t torch.Size([10])\n"
     ]
    }
   ],
   "source": [
    "for name,param in network.named_parameters():\n",
    "    print(name,'\\t\\t',param.device,'\\t\\t',param.shape)"
   ]
  },
  {
   "cell_type": "code",
   "execution_count": null,
   "metadata": {},
   "outputs": [],
   "source": []
  },
  {
   "cell_type": "code",
   "execution_count": 19,
   "metadata": {},
   "outputs": [
    {
     "data": {
      "text/plain": [
       "Network(\n",
       "  (conv1): Conv2d(1, 6, kernel_size=(5, 5), stride=(1, 1))\n",
       "  (conv2): Conv2d(6, 12, kernel_size=(5, 5), stride=(1, 1))\n",
       "  (fc1): Linear(in_features=192, out_features=120, bias=True)\n",
       "  (fc2): Linear(in_features=120, out_features=60, bias=True)\n",
       "  (out): Linear(in_features=60, out_features=10, bias=True)\n",
       ")"
      ]
     },
     "execution_count": 19,
     "metadata": {},
     "output_type": "execute_result"
    }
   ],
   "source": [
    "network.to('cuda')"
   ]
  },
  {
   "cell_type": "code",
   "execution_count": 20,
   "metadata": {},
   "outputs": [
    {
     "name": "stdout",
     "output_type": "stream",
     "text": [
      "conv1.weight \t\t cuda:0 \t\t torch.Size([10])\n",
      "conv1.bias \t\t cuda:0 \t\t torch.Size([10])\n",
      "conv2.weight \t\t cuda:0 \t\t torch.Size([10])\n",
      "conv2.bias \t\t cuda:0 \t\t torch.Size([10])\n",
      "fc1.weight \t\t cuda:0 \t\t torch.Size([10])\n",
      "fc1.bias \t\t cuda:0 \t\t torch.Size([10])\n",
      "fc2.weight \t\t cuda:0 \t\t torch.Size([10])\n",
      "fc2.bias \t\t cuda:0 \t\t torch.Size([10])\n",
      "out.weight \t\t cuda:0 \t\t torch.Size([10])\n",
      "out.bias \t\t cuda:0 \t\t torch.Size([10])\n"
     ]
    }
   ],
   "source": [
    "for name,params in network.named_parameters():\n",
    "    print(name,'\\t\\t',param.device,'\\t\\t',param.shape)"
   ]
  },
  {
   "cell_type": "code",
   "execution_count": null,
   "metadata": {},
   "outputs": [],
   "source": []
  },
  {
   "cell_type": "code",
   "execution_count": 21,
   "metadata": {},
   "outputs": [
    {
     "data": {
      "text/plain": [
       "torch.Size([1, 1, 28, 28])"
      ]
     },
     "execution_count": 21,
     "metadata": {},
     "output_type": "execute_result"
    }
   ],
   "source": [
    "sample=torch.ones(1,1,28,28)\n",
    "sample.shape"
   ]
  },
  {
   "cell_type": "code",
   "execution_count": 22,
   "metadata": {},
   "outputs": [
    {
     "name": "stdout",
     "output_type": "stream",
     "text": [
      "Input type (torch.FloatTensor) and weight type (torch.cuda.FloatTensor) should be the same\n"
     ]
    }
   ],
   "source": [
    "try: network(sample)\n",
    "except Exception as e: print(e)"
   ]
  },
  {
   "cell_type": "code",
   "execution_count": 23,
   "metadata": {
    "scrolled": true
   },
   "outputs": [
    {
     "name": "stdout",
     "output_type": "stream",
     "text": [
      "tensor([[ 0.0520, -0.0532,  0.0976, -0.1109,  0.0837, -0.0172, -0.0454, -0.0684,\n",
      "         -0.1101,  0.0482]], device='cuda:0', grad_fn=<AddmmBackward>)\n"
     ]
    }
   ],
   "source": [
    "try:\n",
    "    pred=network(sample.to('cuda'))\n",
    "    print(pred)\n",
    "except Exception as e:\n",
    "    print(e)"
   ]
  },
  {
   "cell_type": "code",
   "execution_count": null,
   "metadata": {},
   "outputs": [],
   "source": []
  },
  {
   "cell_type": "markdown",
   "metadata": {},
   "source": [
    "#### checking GPU"
   ]
  },
  {
   "cell_type": "code",
   "execution_count": 24,
   "metadata": {},
   "outputs": [
    {
     "data": {
      "text/plain": [
       "True"
      ]
     },
     "execution_count": 24,
     "metadata": {},
     "output_type": "execute_result"
    }
   ],
   "source": [
    "torch.cuda.is_available()"
   ]
  },
  {
   "cell_type": "markdown",
   "metadata": {},
   "source": [
    "#### Using the Gpu: Test"
   ]
  },
  {
   "cell_type": "code",
   "execution_count": 25,
   "metadata": {},
   "outputs": [],
   "source": [
    "class RunBuilder():\n",
    "    @staticmethod\n",
    "    def get_runs(params):\n",
    "        Run=namedtuple(\"Run\",params.keys())\n",
    "        \n",
    "        runs=[]\n",
    "        for v in product(*params.values()):\n",
    "            runs.append(Run(*v))\n",
    "        \n",
    "        return runs"
   ]
  },
  {
   "cell_type": "code",
   "execution_count": 26,
   "metadata": {},
   "outputs": [],
   "source": [
    "class RunManager():\n",
    "    def __init__(self):\n",
    "        self.epoch_count=0\n",
    "        self.epoch_loss=0\n",
    "        self.epoch_num_correct=0\n",
    "        self.epoch_start_time=None\n",
    "        \n",
    "        self.run_params=None\n",
    "        self.run_count=0\n",
    "        self.run_data=[]\n",
    "        self.run_start_time=None\n",
    "        \n",
    "        self.network=None\n",
    "        self.loader=None\n",
    "        self.tb=None\n",
    "        \n",
    "    def begin_run(self,run,network,loader):\n",
    "        self.run_start_time=time.time()\n",
    "        self.run_params=run\n",
    "        self.run_count+=1\n",
    "        \n",
    "        self.network=network\n",
    "        self.loader=loader\n",
    "        self.tb=SummaryWriter(comment=f\"-{run}\")\n",
    "        \n",
    "        images,labels=next(iter(self.loader))\n",
    "        grid=torchvision.utils.make_grid(images)\n",
    "        \n",
    "        self.tb.add_image(\"images\",grid)\n",
    "        self.tb.add_graph(self.network,images.to(getattr(run,'device','cpu')))\n",
    "        \n",
    "    def end_run(self):\n",
    "        self.tb.close()\n",
    "        self.epoch_count=0\n",
    "        \n",
    "    def begin_epoch(self):\n",
    "        self.epoch_start_time=time.time()\n",
    "        self.epoch_count+=1\n",
    "        self.epoch_loss=0\n",
    "        self.epoch_num_correct=0\n",
    "        \n",
    "    def end_epoch(self):\n",
    "        epoch_duration=time.time()-self.epoch_start_time\n",
    "        run_duration=time.time()-self.run_start_time\n",
    "        \n",
    "        loss=self.epoch_loss/len(self.loader.dataset)\n",
    "        accuracy=self.epoch_num_correct/len(self.loader.dataset)\n",
    "        \n",
    "        self.tb.add_scalar(\"Loss\",loss,self.epoch_count)\n",
    "        self.tb.add_scalar(\"Accuracy\",accuracy,self.epoch_count)\n",
    "        \n",
    "        for name,param in self.network.named_parameters():\n",
    "            self.tb.add_histogram(name,param,self.epoch_count)\n",
    "            self.tb.add_histogram(f\"{name}.grad\",param.grad,self.epoch_count)\n",
    "        \n",
    "        results=OrderedDict()\n",
    "        results[\"run\"]=self.run_count\n",
    "        results[\"epoch\"]=self.epoch_count\n",
    "        results[\"loss\"]=loss\n",
    "        results[\"accuracy\"]=accuracy\n",
    "        results[\"epoch duration\"]=epoch_duration\n",
    "        results[\"run duration\"]=run_duration\n",
    "        \n",
    "        for k,v in self.run_params._asdict().items(): results[k]=v\n",
    "        self.run_data.append(results)\n",
    "        \n",
    "        df=pd.DataFrame.from_dict(self.run_data,orient=\"columns\")\n",
    "        \n",
    "        clear_output(wait=True)\n",
    "        display(df)\n",
    "        \n",
    "    def track_loss(self,loss,batch):\n",
    "        self.epoch_loss+=loss.item()*batch[0].shape[0]\n",
    "\n",
    "    def track_num_correct(self,preds,labels):\n",
    "        self.epoch_num_correct+=self._get_num_correct(preds,labels)\n",
    "\n",
    "    @torch.no_grad()\n",
    "    def _get_num_correct(self,preds,labels):\n",
    "        return preds.argmax(dim=1).eq(labels).sum().item()\n",
    "\n",
    "    def save(self,filename):\n",
    "        pd.DataFrame.from_dict(self.run_data,orient=\"columns\").to_csv(f\"{filename}.csv\")\n",
    "\n",
    "        with open(f\"{filename}.json\",\"w\",encoding=\"utf-8\") as f:\n",
    "            json.dump(self.run_data,f,ensure_ascii=False,indent=4)\n",
    "            "
   ]
  },
  {
   "cell_type": "code",
   "execution_count": 28,
   "metadata": {},
   "outputs": [
    {
     "data": {
      "text/html": [
       "<div>\n",
       "<style scoped>\n",
       "    .dataframe tbody tr th:only-of-type {\n",
       "        vertical-align: middle;\n",
       "    }\n",
       "\n",
       "    .dataframe tbody tr th {\n",
       "        vertical-align: top;\n",
       "    }\n",
       "\n",
       "    .dataframe thead th {\n",
       "        text-align: right;\n",
       "    }\n",
       "</style>\n",
       "<table border=\"1\" class=\"dataframe\">\n",
       "  <thead>\n",
       "    <tr style=\"text-align: right;\">\n",
       "      <th></th>\n",
       "      <th>run</th>\n",
       "      <th>epoch</th>\n",
       "      <th>loss</th>\n",
       "      <th>accuracy</th>\n",
       "      <th>epoch duration</th>\n",
       "      <th>run duration</th>\n",
       "      <th>lr</th>\n",
       "      <th>batch_size</th>\n",
       "      <th>num_workers</th>\n",
       "      <th>device</th>\n",
       "    </tr>\n",
       "  </thead>\n",
       "  <tbody>\n",
       "    <tr>\n",
       "      <th>0</th>\n",
       "      <td>1</td>\n",
       "      <td>1</td>\n",
       "      <td>0.972195</td>\n",
       "      <td>0.630267</td>\n",
       "      <td>6.219584</td>\n",
       "      <td>7.202937</td>\n",
       "      <td>0.01</td>\n",
       "      <td>1000</td>\n",
       "      <td>0</td>\n",
       "      <td>cuda</td>\n",
       "    </tr>\n",
       "    <tr>\n",
       "      <th>1</th>\n",
       "      <td>2</td>\n",
       "      <td>1</td>\n",
       "      <td>0.975532</td>\n",
       "      <td>0.626300</td>\n",
       "      <td>12.531101</td>\n",
       "      <td>13.320128</td>\n",
       "      <td>0.01</td>\n",
       "      <td>1000</td>\n",
       "      <td>0</td>\n",
       "      <td>cpu</td>\n",
       "    </tr>\n",
       "    <tr>\n",
       "      <th>2</th>\n",
       "      <td>3</td>\n",
       "      <td>1</td>\n",
       "      <td>1.026296</td>\n",
       "      <td>0.611767</td>\n",
       "      <td>6.083094</td>\n",
       "      <td>7.028283</td>\n",
       "      <td>0.01</td>\n",
       "      <td>1000</td>\n",
       "      <td>1</td>\n",
       "      <td>cuda</td>\n",
       "    </tr>\n",
       "    <tr>\n",
       "      <th>3</th>\n",
       "      <td>4</td>\n",
       "      <td>1</td>\n",
       "      <td>0.989903</td>\n",
       "      <td>0.616567</td>\n",
       "      <td>10.554919</td>\n",
       "      <td>11.799164</td>\n",
       "      <td>0.01</td>\n",
       "      <td>1000</td>\n",
       "      <td>1</td>\n",
       "      <td>cpu</td>\n",
       "    </tr>\n",
       "    <tr>\n",
       "      <th>4</th>\n",
       "      <td>5</td>\n",
       "      <td>1</td>\n",
       "      <td>2.210332</td>\n",
       "      <td>0.194167</td>\n",
       "      <td>8.273864</td>\n",
       "      <td>12.540068</td>\n",
       "      <td>0.01</td>\n",
       "      <td>10000</td>\n",
       "      <td>0</td>\n",
       "      <td>cuda</td>\n",
       "    </tr>\n",
       "    <tr>\n",
       "      <th>5</th>\n",
       "      <td>6</td>\n",
       "      <td>1</td>\n",
       "      <td>2.184789</td>\n",
       "      <td>0.182867</td>\n",
       "      <td>13.544657</td>\n",
       "      <td>20.219034</td>\n",
       "      <td>0.01</td>\n",
       "      <td>10000</td>\n",
       "      <td>0</td>\n",
       "      <td>cpu</td>\n",
       "    </tr>\n",
       "    <tr>\n",
       "      <th>6</th>\n",
       "      <td>7</td>\n",
       "      <td>1</td>\n",
       "      <td>2.198799</td>\n",
       "      <td>0.226617</td>\n",
       "      <td>6.879040</td>\n",
       "      <td>11.875301</td>\n",
       "      <td>0.01</td>\n",
       "      <td>10000</td>\n",
       "      <td>1</td>\n",
       "      <td>cuda</td>\n",
       "    </tr>\n",
       "    <tr>\n",
       "      <th>7</th>\n",
       "      <td>8</td>\n",
       "      <td>1</td>\n",
       "      <td>2.117992</td>\n",
       "      <td>0.218133</td>\n",
       "      <td>9.519657</td>\n",
       "      <td>17.062767</td>\n",
       "      <td>0.01</td>\n",
       "      <td>10000</td>\n",
       "      <td>1</td>\n",
       "      <td>cpu</td>\n",
       "    </tr>\n",
       "    <tr>\n",
       "      <th>8</th>\n",
       "      <td>9</td>\n",
       "      <td>1</td>\n",
       "      <td>2.274265</td>\n",
       "      <td>0.135317</td>\n",
       "      <td>11.671031</td>\n",
       "      <td>19.492289</td>\n",
       "      <td>0.01</td>\n",
       "      <td>20000</td>\n",
       "      <td>0</td>\n",
       "      <td>cuda</td>\n",
       "    </tr>\n",
       "    <tr>\n",
       "      <th>9</th>\n",
       "      <td>10</td>\n",
       "      <td>1</td>\n",
       "      <td>2.283910</td>\n",
       "      <td>0.115467</td>\n",
       "      <td>13.236289</td>\n",
       "      <td>25.076207</td>\n",
       "      <td>0.01</td>\n",
       "      <td>20000</td>\n",
       "      <td>0</td>\n",
       "      <td>cpu</td>\n",
       "    </tr>\n",
       "    <tr>\n",
       "      <th>10</th>\n",
       "      <td>11</td>\n",
       "      <td>1</td>\n",
       "      <td>2.285070</td>\n",
       "      <td>0.179567</td>\n",
       "      <td>6.718554</td>\n",
       "      <td>17.165303</td>\n",
       "      <td>0.01</td>\n",
       "      <td>20000</td>\n",
       "      <td>1</td>\n",
       "      <td>cuda</td>\n",
       "    </tr>\n",
       "    <tr>\n",
       "      <th>11</th>\n",
       "      <td>12</td>\n",
       "      <td>1</td>\n",
       "      <td>2.297009</td>\n",
       "      <td>0.131417</td>\n",
       "      <td>10.105667</td>\n",
       "      <td>24.794647</td>\n",
       "      <td>0.01</td>\n",
       "      <td>20000</td>\n",
       "      <td>1</td>\n",
       "      <td>cpu</td>\n",
       "    </tr>\n",
       "  </tbody>\n",
       "</table>\n",
       "</div>"
      ],
      "text/plain": [
       "    run  epoch      loss  accuracy  epoch duration  run duration    lr  \\\n",
       "0     1      1  0.972195  0.630267        6.219584      7.202937  0.01   \n",
       "1     2      1  0.975532  0.626300       12.531101     13.320128  0.01   \n",
       "2     3      1  1.026296  0.611767        6.083094      7.028283  0.01   \n",
       "3     4      1  0.989903  0.616567       10.554919     11.799164  0.01   \n",
       "4     5      1  2.210332  0.194167        8.273864     12.540068  0.01   \n",
       "5     6      1  2.184789  0.182867       13.544657     20.219034  0.01   \n",
       "6     7      1  2.198799  0.226617        6.879040     11.875301  0.01   \n",
       "7     8      1  2.117992  0.218133        9.519657     17.062767  0.01   \n",
       "8     9      1  2.274265  0.135317       11.671031     19.492289  0.01   \n",
       "9    10      1  2.283910  0.115467       13.236289     25.076207  0.01   \n",
       "10   11      1  2.285070  0.179567        6.718554     17.165303  0.01   \n",
       "11   12      1  2.297009  0.131417       10.105667     24.794647  0.01   \n",
       "\n",
       "    batch_size  num_workers device  \n",
       "0         1000            0   cuda  \n",
       "1         1000            0    cpu  \n",
       "2         1000            1   cuda  \n",
       "3         1000            1    cpu  \n",
       "4        10000            0   cuda  \n",
       "5        10000            0    cpu  \n",
       "6        10000            1   cuda  \n",
       "7        10000            1    cpu  \n",
       "8        20000            0   cuda  \n",
       "9        20000            0    cpu  \n",
       "10       20000            1   cuda  \n",
       "11       20000            1    cpu  "
      ]
     },
     "metadata": {},
     "output_type": "display_data"
    }
   ],
   "source": [
    "params=OrderedDict( lr=[0.01],\n",
    "                    batch_size=[1000,10000,20000],\n",
    "                    num_workers=[0,1],\n",
    "                    device=['cuda','cpu'])\n",
    "\n",
    "m=RunManager()\n",
    "for run in RunBuilder.get_runs(params):\n",
    "    device=torch.device(run.device)\n",
    "    network=Network().to(device)\n",
    "    loader=DataLoader(train_set,batch_size=run.batch_size,num_workers=run.num_workers)\n",
    "    optimizer=optim.Adam(network.parameters(),lr=run.lr)\n",
    "    \n",
    "    m.begin_run(run,network,loader)\n",
    "    for epoch in range(1):\n",
    "        m.begin_epoch()\n",
    "        for batch in loader:\n",
    "            images=batch[0].to(device)\n",
    "            labels=batch[1].to(device)\n",
    "            preds=network(images)\n",
    "            loss=functional.cross_entropy(preds,labels)\n",
    "            optimizer.zero_grad()\n",
    "            loss.backward()\n",
    "            optimizer.step()\n",
    "            \n",
    "            m.track_loss(loss,batch)\n",
    "            m.track_num_correct(preds,labels)\n",
    "        m.end_epoch()\n",
    "    m.end_run()\n",
    "m.save('results')"
   ]
  },
  {
   "cell_type": "code",
   "execution_count": 29,
   "metadata": {},
   "outputs": [
    {
     "data": {
      "text/html": [
       "<div>\n",
       "<style scoped>\n",
       "    .dataframe tbody tr th:only-of-type {\n",
       "        vertical-align: middle;\n",
       "    }\n",
       "\n",
       "    .dataframe tbody tr th {\n",
       "        vertical-align: top;\n",
       "    }\n",
       "\n",
       "    .dataframe thead th {\n",
       "        text-align: right;\n",
       "    }\n",
       "</style>\n",
       "<table border=\"1\" class=\"dataframe\">\n",
       "  <thead>\n",
       "    <tr style=\"text-align: right;\">\n",
       "      <th></th>\n",
       "      <th>run</th>\n",
       "      <th>epoch</th>\n",
       "      <th>loss</th>\n",
       "      <th>accuracy</th>\n",
       "      <th>epoch duration</th>\n",
       "      <th>run duration</th>\n",
       "      <th>lr</th>\n",
       "      <th>batch_size</th>\n",
       "      <th>num_workers</th>\n",
       "      <th>device</th>\n",
       "    </tr>\n",
       "  </thead>\n",
       "  <tbody>\n",
       "    <tr>\n",
       "      <th>2</th>\n",
       "      <td>3</td>\n",
       "      <td>1</td>\n",
       "      <td>1.026296</td>\n",
       "      <td>0.611767</td>\n",
       "      <td>6.083094</td>\n",
       "      <td>7.028283</td>\n",
       "      <td>0.01</td>\n",
       "      <td>1000</td>\n",
       "      <td>1</td>\n",
       "      <td>cuda</td>\n",
       "    </tr>\n",
       "    <tr>\n",
       "      <th>0</th>\n",
       "      <td>1</td>\n",
       "      <td>1</td>\n",
       "      <td>0.972195</td>\n",
       "      <td>0.630267</td>\n",
       "      <td>6.219584</td>\n",
       "      <td>7.202937</td>\n",
       "      <td>0.01</td>\n",
       "      <td>1000</td>\n",
       "      <td>0</td>\n",
       "      <td>cuda</td>\n",
       "    </tr>\n",
       "    <tr>\n",
       "      <th>10</th>\n",
       "      <td>11</td>\n",
       "      <td>1</td>\n",
       "      <td>2.285070</td>\n",
       "      <td>0.179567</td>\n",
       "      <td>6.718554</td>\n",
       "      <td>17.165303</td>\n",
       "      <td>0.01</td>\n",
       "      <td>20000</td>\n",
       "      <td>1</td>\n",
       "      <td>cuda</td>\n",
       "    </tr>\n",
       "    <tr>\n",
       "      <th>6</th>\n",
       "      <td>7</td>\n",
       "      <td>1</td>\n",
       "      <td>2.198799</td>\n",
       "      <td>0.226617</td>\n",
       "      <td>6.879040</td>\n",
       "      <td>11.875301</td>\n",
       "      <td>0.01</td>\n",
       "      <td>10000</td>\n",
       "      <td>1</td>\n",
       "      <td>cuda</td>\n",
       "    </tr>\n",
       "    <tr>\n",
       "      <th>4</th>\n",
       "      <td>5</td>\n",
       "      <td>1</td>\n",
       "      <td>2.210332</td>\n",
       "      <td>0.194167</td>\n",
       "      <td>8.273864</td>\n",
       "      <td>12.540068</td>\n",
       "      <td>0.01</td>\n",
       "      <td>10000</td>\n",
       "      <td>0</td>\n",
       "      <td>cuda</td>\n",
       "    </tr>\n",
       "    <tr>\n",
       "      <th>7</th>\n",
       "      <td>8</td>\n",
       "      <td>1</td>\n",
       "      <td>2.117992</td>\n",
       "      <td>0.218133</td>\n",
       "      <td>9.519657</td>\n",
       "      <td>17.062767</td>\n",
       "      <td>0.01</td>\n",
       "      <td>10000</td>\n",
       "      <td>1</td>\n",
       "      <td>cpu</td>\n",
       "    </tr>\n",
       "    <tr>\n",
       "      <th>11</th>\n",
       "      <td>12</td>\n",
       "      <td>1</td>\n",
       "      <td>2.297009</td>\n",
       "      <td>0.131417</td>\n",
       "      <td>10.105667</td>\n",
       "      <td>24.794647</td>\n",
       "      <td>0.01</td>\n",
       "      <td>20000</td>\n",
       "      <td>1</td>\n",
       "      <td>cpu</td>\n",
       "    </tr>\n",
       "    <tr>\n",
       "      <th>3</th>\n",
       "      <td>4</td>\n",
       "      <td>1</td>\n",
       "      <td>0.989903</td>\n",
       "      <td>0.616567</td>\n",
       "      <td>10.554919</td>\n",
       "      <td>11.799164</td>\n",
       "      <td>0.01</td>\n",
       "      <td>1000</td>\n",
       "      <td>1</td>\n",
       "      <td>cpu</td>\n",
       "    </tr>\n",
       "    <tr>\n",
       "      <th>8</th>\n",
       "      <td>9</td>\n",
       "      <td>1</td>\n",
       "      <td>2.274265</td>\n",
       "      <td>0.135317</td>\n",
       "      <td>11.671031</td>\n",
       "      <td>19.492289</td>\n",
       "      <td>0.01</td>\n",
       "      <td>20000</td>\n",
       "      <td>0</td>\n",
       "      <td>cuda</td>\n",
       "    </tr>\n",
       "    <tr>\n",
       "      <th>1</th>\n",
       "      <td>2</td>\n",
       "      <td>1</td>\n",
       "      <td>0.975532</td>\n",
       "      <td>0.626300</td>\n",
       "      <td>12.531101</td>\n",
       "      <td>13.320128</td>\n",
       "      <td>0.01</td>\n",
       "      <td>1000</td>\n",
       "      <td>0</td>\n",
       "      <td>cpu</td>\n",
       "    </tr>\n",
       "    <tr>\n",
       "      <th>9</th>\n",
       "      <td>10</td>\n",
       "      <td>1</td>\n",
       "      <td>2.283910</td>\n",
       "      <td>0.115467</td>\n",
       "      <td>13.236289</td>\n",
       "      <td>25.076207</td>\n",
       "      <td>0.01</td>\n",
       "      <td>20000</td>\n",
       "      <td>0</td>\n",
       "      <td>cpu</td>\n",
       "    </tr>\n",
       "    <tr>\n",
       "      <th>5</th>\n",
       "      <td>6</td>\n",
       "      <td>1</td>\n",
       "      <td>2.184789</td>\n",
       "      <td>0.182867</td>\n",
       "      <td>13.544657</td>\n",
       "      <td>20.219034</td>\n",
       "      <td>0.01</td>\n",
       "      <td>10000</td>\n",
       "      <td>0</td>\n",
       "      <td>cpu</td>\n",
       "    </tr>\n",
       "  </tbody>\n",
       "</table>\n",
       "</div>"
      ],
      "text/plain": [
       "    run  epoch      loss  accuracy  epoch duration  run duration    lr  \\\n",
       "2     3      1  1.026296  0.611767        6.083094      7.028283  0.01   \n",
       "0     1      1  0.972195  0.630267        6.219584      7.202937  0.01   \n",
       "10   11      1  2.285070  0.179567        6.718554     17.165303  0.01   \n",
       "6     7      1  2.198799  0.226617        6.879040     11.875301  0.01   \n",
       "4     5      1  2.210332  0.194167        8.273864     12.540068  0.01   \n",
       "7     8      1  2.117992  0.218133        9.519657     17.062767  0.01   \n",
       "11   12      1  2.297009  0.131417       10.105667     24.794647  0.01   \n",
       "3     4      1  0.989903  0.616567       10.554919     11.799164  0.01   \n",
       "8     9      1  2.274265  0.135317       11.671031     19.492289  0.01   \n",
       "1     2      1  0.975532  0.626300       12.531101     13.320128  0.01   \n",
       "9    10      1  2.283910  0.115467       13.236289     25.076207  0.01   \n",
       "5     6      1  2.184789  0.182867       13.544657     20.219034  0.01   \n",
       "\n",
       "    batch_size  num_workers device  \n",
       "2         1000            1   cuda  \n",
       "0         1000            0   cuda  \n",
       "10       20000            1   cuda  \n",
       "6        10000            1   cuda  \n",
       "4        10000            0   cuda  \n",
       "7        10000            1    cpu  \n",
       "11       20000            1    cpu  \n",
       "3         1000            1    cpu  \n",
       "8        20000            0   cuda  \n",
       "1         1000            0    cpu  \n",
       "9        20000            0    cpu  \n",
       "5        10000            0    cpu  "
      ]
     },
     "execution_count": 29,
     "metadata": {},
     "output_type": "execute_result"
    }
   ],
   "source": [
    "pd.DataFrame.from_dict(m.run_data,orient='columns').sort_values('epoch duration')"
   ]
  },
  {
   "cell_type": "code",
   "execution_count": null,
   "metadata": {},
   "outputs": [],
   "source": []
  }
 ],
 "metadata": {
  "kernelspec": {
   "display_name": "Python 3",
   "language": "python",
   "name": "python3"
  },
  "language_info": {
   "codemirror_mode": {
    "name": "ipython",
    "version": 3
   },
   "file_extension": ".py",
   "mimetype": "text/x-python",
   "name": "python",
   "nbconvert_exporter": "python",
   "pygments_lexer": "ipython3",
   "version": "3.8.5"
  }
 },
 "nbformat": 4,
 "nbformat_minor": 4
}
